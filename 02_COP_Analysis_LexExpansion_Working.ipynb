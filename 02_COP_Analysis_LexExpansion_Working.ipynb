{
 "cells": [
  {
   "cell_type": "markdown",
   "id": "5ec647a0",
   "metadata": {},
   "source": [
    "sentiment analysis over time\n",
    "\n",
    "volume of tweets\n",
    "\n",
    "do group comparison of the first three days versus all other days of the convention. Then shift the window one day and analyze again. Over and over throughout the convention. \n",
    "\n",
    "maybe display the top five words by index throughout the convention. \n"
   ]
  },
  {
   "cell_type": "markdown",
   "id": "a68f5f07",
   "metadata": {},
   "source": [
    "###  Issues to address"
   ]
  },
  {
   "cell_type": "markdown",
   "id": "3dfd2509",
   "metadata": {},
   "source": [
    "deal with carriage returns\n",
    "\n",
    "tab-separator\n",
    "\n",
    "deal with hashtags separators"
   ]
  },
  {
   "cell_type": "markdown",
   "id": "808ac66c",
   "metadata": {},
   "source": [
    "### Import packages / setup"
   ]
  },
  {
   "cell_type": "code",
   "execution_count": 1,
   "id": "7eb69ac2",
   "metadata": {},
   "outputs": [],
   "source": [
    "import datetime\n",
    "import tweepy\n",
    "from tweepy import OAuthHandler\n",
    "import json\n",
    "import pandas as pd\n",
    "import csv\n",
    "import re\n",
    "import string\n",
    "import os\n",
    "import time\n",
    "import random\n",
    "import numpy as np\n",
    "from nltk.corpus import stopwords\n",
    "sw = stopwords.words('english')\n",
    "from string import punctuation\n",
    "from collections import Counter, defaultdict\n",
    "from pprint import pprint\n",
    "from operator import itemgetter\n",
    "import matplotlib.pyplot as plt\n",
    "\n",
    "\n",
    "# I've put my API keys in a .py file called API_keys.py\n",
    "from my_api_keys import api_key, api_key_secret, access_token, access_token_secret"
   ]
  },
  {
   "cell_type": "code",
   "execution_count": 2,
   "id": "a9f4f4d7",
   "metadata": {},
   "outputs": [],
   "source": [
    "# Authenticate the Tweepy API\n",
    "auth = tweepy.OAuthHandler(api_key,api_key_secret)\n",
    "auth.set_access_token(access_token, access_token_secret)\n",
    "api = tweepy.API(auth,wait_on_rate_limit=True)"
   ]
  },
  {
   "cell_type": "code",
   "execution_count": 3,
   "id": "683e2b7f",
   "metadata": {
    "slideshow": {
     "slide_type": "skip"
    }
   },
   "outputs": [],
   "source": [
    "# Modifications to punctuation and sw lists\n",
    "\n",
    "punctuation = set(punctuation)\n",
    "punctuation.add(\"’\")\n",
    "\n",
    "sw2 = set(sw)\n",
    "addl = (\"|\",\"-\",\"/\",\"•\",\"&\", \"&amp;\")\n",
    "sw2.update(addl)"
   ]
  },
  {
   "cell_type": "markdown",
   "id": "298fc430",
   "metadata": {},
   "source": [
    "####  Read daily tweets CSVs into pandas dataframe"
   ]
  },
  {
   "cell_type": "code",
   "execution_count": 4,
   "id": "71ae473b",
   "metadata": {},
   "outputs": [],
   "source": [
    "db = pd.DataFrame(columns = ['user_id','screen_name','description','location','friends_count',\n",
    "           'followers_count','totaltweets','date_created', 'tweet_id', 'retweetcount','full_text'])\n",
    "\n",
    "file_location = \"/Users/natebender/Desktop/Repo/text-mining/datashare_AA_COP_tweets/data/\"\n",
    "files = sorted(os.listdir(file_location))\n",
    "for idx, file in enumerate(files):\n",
    "    \n",
    "    data = \"\".join([file_location,file])\n",
    "    datafile = pd.read_csv(data)\n",
    "\n",
    "    db = db.append(datafile,ignore_index=True)"
   ]
  },
  {
   "cell_type": "code",
   "execution_count": 5,
   "id": "ce513612",
   "metadata": {},
   "outputs": [],
   "source": [
    "# Check desc stats on overall descriptions before splitting into groups\n",
    "def get_patterns(all_tweets) :\n",
    "\n",
    "    all_desc = all_tweets.dropna()\n",
    "    all_str = \" \".join(all_desc)    \n",
    "    clean = [w for w in all_str.split() if w.lower() not in sw2]\n",
    "    \n",
    "    # Calculate your statistics here\n",
    "    total_tokens = len(clean)\n",
    "    unique_tokens = len(set(clean))\n",
    "    clean_tok_len = [len(w) for w in clean]\n",
    "    avg_token_len = np.mean(clean_tok_len)\n",
    "    lex_diversity = len(set(clean))/len(clean)\n",
    "    top_n = Counter(clean).most_common(20)\n",
    "    \n",
    "    \n",
    "    # Now we'll fill out the dictionary. \n",
    "    results = {'tokens':total_tokens,\n",
    "               'unique_tokens':unique_tokens,\n",
    "               'avg_token_length':round(avg_token_len,2),\n",
    "               'lexical_diversity':round(lex_diversity,2),\n",
    "               'Top_n':top_n}\n",
    "\n",
    "    return(results)"
   ]
  },
  {
   "cell_type": "markdown",
   "id": "689ea17d",
   "metadata": {},
   "source": [
    "### Desc stats on database"
   ]
  },
  {
   "cell_type": "code",
   "execution_count": 6,
   "id": "5cf7beb4",
   "metadata": {},
   "outputs": [
    {
     "name": "stdout",
     "output_type": "stream",
     "text": [
      "Database: 285,084 tweets\n",
      "Descriptive stats are:\n"
     ]
    },
    {
     "data": {
      "text/plain": [
       "{'tokens': 5523996,\n",
       " 'unique_tokens': 170153,\n",
       " 'avg_token_length': 7.82,\n",
       " 'lexical_diversity': 0.03,\n",
       " 'Top_n': [('#COP26', 227147),\n",
       "  ('climate', 57446),\n",
       "  ('#COP26Glasgow', 24133),\n",
       "  ('world', 20434),\n",
       "  ('#cop26', 18871),\n",
       "  ('need', 18435),\n",
       "  ('fossil', 17574),\n",
       "  ('change', 15756),\n",
       "  ('#Unknown', 15720),\n",
       "  ('leaders', 14933),\n",
       "  ('people', 13392),\n",
       "  ('#ClimateAction', 13153),\n",
       "  ('Climate', 12960),\n",
       "  ('Glasgow', 12833),\n",
       "  ('global', 11994),\n",
       "  ('action', 11760),\n",
       "  ('#ClimateCrisis', 11448),\n",
       "  ('#COP26.', 10836),\n",
       "  ('us', 10811),\n",
       "  ('like', 10464)]}"
      ]
     },
     "execution_count": 6,
     "metadata": {},
     "output_type": "execute_result"
    }
   ],
   "source": [
    "# Drop NA values from description column\n",
    "all_tweets = db.full_text.dropna()\n",
    "print(f'Database: {\"{:,}\".format(len(db.tweet_id))} tweets')\n",
    "#print(f'Date range: {db.date_created.min()} to {db.date_created.max()}')\n",
    "print(f'Descriptive stats are:')\n",
    "get_patterns(all_tweets)"
   ]
  },
  {
   "cell_type": "markdown",
   "id": "354b8c50",
   "metadata": {},
   "source": [
    "### Lexicon expansion function to analyze tweets by time series window"
   ]
  },
  {
   "cell_type": "code",
   "execution_count": 159,
   "id": "6bb55124",
   "metadata": {},
   "outputs": [],
   "source": [
    "class Lexicon_time :\n",
    "    def __init__(self, corpus, search_condition, num_words, ratio_cutoff):\n",
    "        self.corpus = list(corpus)\n",
    "        self.search_condition = search_condition\n",
    "        self.num_words = num_words\n",
    "        self.ratio_cutoff = ratio_cutoff\n",
    "        \n",
    "    def parameters(self) :\n",
    "        print(f'The corpus is {\"{:,}\".format(len(self.corpus))} total tweets')\n",
    "        print(f\"The search string is {self.search_condition}\")\n",
    "        print(f\"Words must appear {self.ratio_cutoff} times in both corpora to be included in analysis\")\n",
    "        print(f\"Output for {self.num_words} words is returned\")\n",
    "        \n",
    "    def lex_expansion(self) :\n",
    "\n",
    "        # Set starting marker for keeping track of how long the function runs\n",
    "        start_time = datetime.datetime.now()\n",
    "\n",
    "        group_1 = self.search_condition\n",
    "\n",
    "        group_1 = list(group_1)\n",
    "        group_2 = [string for string in self.corpus if string not in group_1]\n",
    "\n",
    "        group_1_tweets = (\"{:,}\".format(len(group_1)))\n",
    "        group_2_tweets = (\"{:,}\".format(len(group_2)))    \n",
    "\n",
    "        # Tokenize the two groups by first turning them each into single large strings\n",
    "        g1_str = \" \".join(group_1)    \n",
    "        g2_str = \" \".join(group_2)\n",
    "\n",
    "        # Then splitting each into lists of strings. Once we've created groups, we no longer need to know\n",
    "        # which words came from which specific tweets, as long as we keep track of which group the \n",
    "        # words come from.\n",
    "        # We also tokenize and normalize at this stage. We want to remove stopwords, but retain numeric as numbers\n",
    "        # could be used in interesting words, hashtags, or accounts in a corpus of tweets. \n",
    "        g1_uclean = [w for w in g1_str.split()]\n",
    "        g2_uclean = [w for w in g2_str.split()]\n",
    "\n",
    "        g1_clean = [w for w in g1_str.split() if w.lower() not in sw2]\n",
    "        g2_clean = [w for w in g2_str.split()if w.lower() not in sw2]\n",
    "\n",
    "        g1_len = len(g1_clean)\n",
    "        g2_len = len(g2_clean)\n",
    "\n",
    "        # SECT2: CREATE \"CUTOFF_LIST\" LIST OF WORDS THAT MEET CUTOFF RATIO\n",
    "        # Create Counter dictionary of each corpus, used for determining words that meet cutoff ratio\n",
    "        wcount_one = Counter(g1_clean)\n",
    "        wcount_two = Counter(g2_clean)\n",
    "\n",
    "        # Create list of words that meet the ratio cutoff in BOTH corpora, print result\n",
    "        cutoff_list = list()\n",
    "        candidate_words = list(wcount_one.keys()) + list(wcount_two.keys())\n",
    "        candidate_words = set(candidate_words)\n",
    "        for word in candidate_words :\n",
    "            if wcount_one[word] >= self.ratio_cutoff and wcount_two[word] >= self.ratio_cutoff :\n",
    "                cutoff_list.append(word)\n",
    "\n",
    "        cutoff_statement = f'There are {\"{:,}\".format(len(cutoff_list))} words that meet the usage cutoff of {self.ratio_cutoff} appearances in both Group 1 and Group 2'\n",
    "\n",
    "        # SECT3: CALCULATE METRICS ON WORDS IN CUTOFF_LIST\n",
    "        # Create \"metrics\", an intermediate dict to hold data that will be passed \n",
    "        # to different dictionaries in the final \"results\" dict of dicts output\n",
    "        metrics = defaultdict(list)\n",
    "\n",
    "        for word in cutoff_list:        \n",
    "            metrics[word].append(len([w for w in g1_clean if w==word]))  # word count in corpus_1\n",
    "            metrics[word].append(len([w for w in g2_clean if w==word]))  # word count in corpus_2\n",
    "            metrics[word].append(len([w for w in g1_clean if w==word])/g1_len)  # ratio of word count to corpus_1 length\n",
    "            metrics[word].append(len([w for w in g2_clean if w==word])/g2_len)  # ratio of word count to corpus_2 length \n",
    "\n",
    "        # Loop through through the defaultdict and append word ratio for the each word of the corpus\n",
    "        for word, nums in metrics.items() :\n",
    "            # Make sure any zero ratios are excluded\n",
    "            if (nums[2] * nums[3] > 0) :\n",
    "                metrics[word].append(nums[2]/nums[3])  # appends Corpus_1/Corpus_2 index\n",
    "                metrics[word].append(nums[3]/nums[2])  # appends Corpus_2/Corpus_1 index\n",
    "            else :\n",
    "                metrics[word].append(None)\n",
    "                metrics[word].append(None)\n",
    "\n",
    "\n",
    "        # SECT4: APPEND RESPECTIVE INDEXES (CORP1/CORP2 RATIO AND CORP2/CORP1 RATIO) TO \"METRICS\" DICT\n",
    "        one_v_two = defaultdict(list)\n",
    "        two_v_one = defaultdict(list)\n",
    "\n",
    "        # Append word/index pair in \"one_v_two\" dict\n",
    "        for word, nums in metrics.items() :\n",
    "            one_v_two[word].append(nums[4])\n",
    "\n",
    "        # Sort \"one_v_two\" down to just the \"num_words\" key:value pairs,\n",
    "        # sorted in descending order of index ratio.\n",
    "        one_v_two_sort = dict(sorted(one_v_two.items(), key = itemgetter(1), reverse = True)[:self.num_words])\n",
    "\n",
    "        # Lastly, round those values to two decimal points for readability    \n",
    "        for dict_value in one_v_two_sort :\n",
    "            for k, v in one_v_two_sort.items() :\n",
    "                one_v_two_sort[k] = [round(v,2) for v in one_v_two_sort[k]]\n",
    "\n",
    "        # Same process for \"two_v_one\"\n",
    "        # Append word/index pair in \"two_v_one\" dict\n",
    "        for word, nums in metrics.items() :\n",
    "            two_v_one[word].append(nums[5])\n",
    "\n",
    "        # Sort \"two_v_one\" down to just the \"num_words\" key:value pairs, \n",
    "        # sorted in descending order of index ratio.\n",
    "        two_v_one_sort = dict(sorted(two_v_one.items(), key = itemgetter(1), reverse = True)[:self.num_words])         \n",
    "\n",
    "        # Lastly, round those values to two decimal points for readability    \n",
    "        for dict_value in two_v_one_sort :\n",
    "            for k, v in two_v_one_sort.items() :\n",
    "                two_v_one_sort[k] = [round(v,2) for v in two_v_one_sort[k]]      \n",
    "\n",
    "\n",
    "        # SECT5: CALCULATE METRICS FOR \"CORP1\" AND \"CORP2\" KEYS IN \"RESULTS\" FINAL DICT\n",
    "        # Descriptive stats calcs for corpus_1\n",
    "        total_tokens_1 = len(g1_clean)\n",
    "        unique_tokens_1 = len(set(g1_clean))\n",
    "        word_len_1 = [len(w) for w in g1_clean]\n",
    "        avg_token_len_1 = np.mean(word_len_1)\n",
    "        lex_diversity_1 = len(set(g1_clean))/len(g1_clean)\n",
    "        top_n_1 = Counter(g1_clean).most_common(self.num_words)\n",
    "\n",
    "        # Descriptive stats calcs for corpus_2\n",
    "        total_tokens_2 = len(g2_clean)\n",
    "        unique_tokens_2 = len(set(g2_clean))\n",
    "        word_len_2 = [len(w) for w in g2_clean]\n",
    "        avg_token_len_2 = np.mean(word_len_2)\n",
    "        lex_diversity_2 = len(set(g2_clean))/len(g2_clean)\n",
    "        top_n_2 = Counter(g2_clean).most_common(self.num_words)\n",
    "\n",
    "\n",
    "        # SECT6: BRING EVERYTHING TOGETHER IN \"RESULTS\" FINAL DICT\n",
    "        results1 = {'Group_1': {'Number_of_tweets':group_1_tweets,\n",
    "                                'Number_of_words':total_tokens_1,\n",
    "                              'Unique_words':unique_tokens_1,\n",
    "                              'Avg _length':round(avg_token_len_1, 2),\n",
    "                              'Lexical_diversity':round(lex_diversity_1, 2),\n",
    "                              'Top_'+str(self.num_words):top_n_1},\n",
    "                   'Group_2': {'Number_of_tweets':group_2_tweets,\n",
    "                               'Number_of_words':total_tokens_2,\n",
    "                              'Unique_words':unique_tokens_2,\n",
    "                              'Avg_word_length':round(avg_token_len_2, 2),\n",
    "                              'Lexical_diversity':round(lex_diversity_2, 2),\n",
    "                              'Top_'+str(self.num_words):top_n_2},\n",
    "                   'Group1_vs_Group2': one_v_two_sort,\n",
    "                   'Group2_vs_Group1': two_v_one_sort,\n",
    "                   'cutoff_statement': cutoff_statement}\n",
    "\n",
    "        # Print elapsed time after function has run\n",
    "        end_time = datetime.datetime.now()\n",
    "        elapsed_time = end_time - start_time\n",
    "        print(elapsed_time)\n",
    "        return(results1)"
   ]
  },
  {
   "cell_type": "markdown",
   "id": "a75b50f5",
   "metadata": {},
   "source": [
    "#### Breaking groups by date range"
   ]
  },
  {
   "cell_type": "code",
   "execution_count": 160,
   "id": "971761eb",
   "metadata": {},
   "outputs": [
    {
     "data": {
      "text/plain": [
       "180000"
      ]
     },
     "execution_count": 160,
     "metadata": {},
     "output_type": "execute_result"
    }
   ],
   "source": [
    "len(all_tweets)"
   ]
  },
  {
   "cell_type": "code",
   "execution_count": 91,
   "id": "07a75f31",
   "metadata": {},
   "outputs": [],
   "source": [
    "# Subset dataframe to multiple 3-day windows\n",
    "\n",
    "w1_text = db.full_text[(db['date_created']>= \"2021-10-28\") & (db['date_created']< \"2021-10-31\")]\n",
    "w2_text = db.full_text[(db['date_created']>= \"2021-10-29\") & (db['date_created']< \"2021-11-01\")]\n",
    "w3_text = db.full_text[(db['date_created']>= \"2021-10-30\") & (db['date_created']< \"2021-11-02\")]\n",
    "w4_text = db.full_text[(db['date_created']>= \"2021-10-31\") & (db['date_created']< \"2021-11-03\")]\n",
    "w5_text = db.full_text[(db['date_created']>= \"2021-11-01\") & (db['date_created']< \"2021-11-04\")]\n",
    "w6_text = db.full_text[(db['date_created']>= \"2021-10-02\") & (db['date_created']< \"2021-11-05\")]\n",
    "w7_text = db.full_text[(db['date_created']>= \"2021-10-03\") & (db['date_created']< \"2021-11-06\")]\n",
    "w8_text = db.full_text[(db['date_created']>= \"2021-10-04\") & (db['date_created']< \"2021-11-07\")]\n",
    "w9_text = db.full_text[(db['date_created']>= \"2021-10-05\") & (db['date_created']< \"2021-11-08\")]\n",
    "# w10_text = db.full_text[(db['date_created']>= \"2021-10-06\") & (db['date_created']< \"2021-11-09\")]\n",
    "# w11_text = db.full_text[(db['date_created']>= \"2021-10-07\") & (db['date_created']< \"2021-11-10\")]\n",
    "# w12_text = db.full_text[(db['date_created']>= \"2021-10-08\") & (db['date_created']< \"2021-11-11\")]\n",
    "# w13_text = db.full_text[(db['date_created']>= \"2021-10-09\") & (db['date_created']< \"2021-11-12\")]\n",
    "# w14_text = db.full_text[(db['date_created']>= \"2021-10-10\") & (db['date_created']< \"2021-11-13\")]\n",
    "# w15_text = db.full_text[(db['date_created']>= \"2021-10-11\") & (db['date_created']< \"2021-11-14\")]\n",
    "# w16_text = db.full_text[(db['date_created']>= \"2021-10-12\") & (db['date_created']< \"2021-11-15\")]"
   ]
  },
  {
   "cell_type": "code",
   "execution_count": 161,
   "id": "943f6d74",
   "metadata": {},
   "outputs": [
    {
     "name": "stdout",
     "output_type": "stream",
     "text": [
      "1:12:45.664241\n"
     ]
    }
   ],
   "source": [
    "window1 = Lexicon_time(all_tweets, w1_text, 20, 10)\n",
    "win1 = window1.lex_expansion()"
   ]
  },
  {
   "cell_type": "code",
   "execution_count": 162,
   "id": "af8b37bc",
   "metadata": {},
   "outputs": [
    {
     "name": "stdout",
     "output_type": "stream",
     "text": [
      "Group 1 tweets:\n",
      "45,000\n",
      "Group 2 tweets:\n",
      "133,968\n",
      "There are 8,436 words that meet the usage cutoff of 10 appearances in both Group 1 and Group 2\n"
     ]
    }
   ],
   "source": [
    "print(f'Group 1 tweets:')\n",
    "print(win1['Group_1']['Number_of_tweets'])\n",
    "print(f'Group 2 tweets:')\n",
    "print(win1['Group_2'][\"Number_of_tweets\"])\n",
    "print(win1[\"cutoff_statement\"])"
   ]
  },
  {
   "cell_type": "code",
   "execution_count": 163,
   "id": "a690b677",
   "metadata": {
    "scrolled": false
   },
   "outputs": [
    {
     "name": "stdout",
     "output_type": "stream",
     "text": [
      "Round 1: Group 1 v Group 2:\n",
      "[('#LetsGetReal', [230.4]),\n",
      " ('#XiJinping', [132.87]),\n",
      " ('Empty', [119.07]),\n",
      " ('#ScottishIndependence14', [95.84]),\n",
      " ('@Plant_Treaty', [91.97]),\n",
      " ('endorse', [76.67]),\n",
      " ('#EndFossilFinance', [69.7]),\n",
      " ('prepares', [66.8]),\n",
      " ('fuels?', [60.02]),\n",
      " ('act!', [57.36]),\n",
      " ('Pls', [55.76]),\n",
      " ('help!', [53.73]),\n",
      " ('option!', [52.28]),\n",
      " ('factory', [50.53]),\n",
      " ('NOW.', [46.1]),\n",
      " ('vague', [42.69]),\n",
      " ('REAL', [42.35]),\n",
      " ('pledges.', [39.37]),\n",
      " ('@s_guilbeault:', [36.59]),\n",
      " ('accepting', [36.3])]\n"
     ]
    }
   ],
   "source": [
    "print(f'Round 1: Group 1 v Group 2:')\n",
    "pprint(sorted(win1['Group1_vs_Group2'].items(), key = itemgetter(1), reverse = True))"
   ]
  },
  {
   "cell_type": "code",
   "execution_count": 165,
   "id": "da58fafd",
   "metadata": {
    "scrolled": true
   },
   "outputs": [
    {
     "name": "stdout",
     "output_type": "stream",
     "text": [
      "1:01:58.618177\n"
     ]
    }
   ],
   "source": [
    "window2 = Lexicon_time(all_tweets, w2_text, 20, 10)\n",
    "win2 = window2.lex_expansion()"
   ]
  },
  {
   "cell_type": "code",
   "execution_count": 166,
   "id": "50be2824",
   "metadata": {},
   "outputs": [
    {
     "name": "stdout",
     "output_type": "stream",
     "text": [
      "Group 1 tweets:\n",
      "45,000\n",
      "Group 2 tweets:\n",
      "133,200\n",
      "There are 8,440 words that meet the usage cutoff of 10 appearances in both Group 1 and Group 2\n"
     ]
    }
   ],
   "source": [
    "print(f'Group 1 tweets:')\n",
    "print(win2['Group_1']['Number_of_tweets'])\n",
    "print(f'Group 2 tweets:')\n",
    "print(win2['Group_2'][\"Number_of_tweets\"])\n",
    "print(win2[\"cutoff_statement\"])"
   ]
  },
  {
   "cell_type": "code",
   "execution_count": 168,
   "id": "dc01e74b",
   "metadata": {
    "scrolled": true
   },
   "outputs": [
    {
     "name": "stdout",
     "output_type": "stream",
     "text": [
      "Round 2: Group 1 v Group 2:\n",
      "[('#ScottishIndependence14', [202.28]),\n",
      " ('#BanTrophyHunting', [143.4]),\n",
      " ('fuels?', [99.63]),\n",
      " ('#G20RomeSummit', [78.5]),\n",
      " ('prepares', [72.46]),\n",
      " ('#EndFossilFinance', [56.61]),\n",
      " ('option!', [54.34]),\n",
      " ('#PlantBasedTreaty', [38.12]),\n",
      " ('accepting', [37.74]),\n",
      " ('endorse', [34.58]),\n",
      " ('@HarjitSajjan', [33.21]),\n",
      " ('privatised', [33.21]),\n",
      " ('✍️', [31.87]),\n",
      " ('#Shorts', [31.7]),\n",
      " ('@Plant_Treaty', [29.85]),\n",
      " ('Peter', [29.28]),\n",
      " ('counts.', [28.68]),\n",
      " ('😷/', [28.68]),\n",
      " ('talks:', [28.68]),\n",
      " ('#Insiders', [28.18])]\n"
     ]
    }
   ],
   "source": [
    "print(f'Round 2: Group 1 v Group 2:')\n",
    "pprint(sorted(win2['Group1_vs_Group2'].items(), key = itemgetter(1), reverse = True))"
   ]
  },
  {
   "cell_type": "code",
   "execution_count": 175,
   "id": "2ee98d1c",
   "metadata": {},
   "outputs": [],
   "source": [
    "test = sorted(win2['Group1_vs_Group2'].items(), key = itemgetter(1), reverse = True)\n",
    "test2 = test[0][1][0]  # example of how to access the value for \"scottishIndependence14\""
   ]
  },
  {
   "cell_type": "code",
   "execution_count": null,
   "id": "ec45315c",
   "metadata": {},
   "outputs": [],
   "source": []
  },
  {
   "cell_type": "code",
   "execution_count": 169,
   "id": "b2852415",
   "metadata": {},
   "outputs": [
    {
     "ename": "KeyboardInterrupt",
     "evalue": "",
     "output_type": "error",
     "traceback": [
      "\u001b[0;31m---------------------------------------------------------------------------\u001b[0m",
      "\u001b[0;31mKeyboardInterrupt\u001b[0m                         Traceback (most recent call last)",
      "\u001b[0;32m<ipython-input-169-a50b508e95dc>\u001b[0m in \u001b[0;36m<module>\u001b[0;34m\u001b[0m\n\u001b[1;32m      1\u001b[0m \u001b[0mwindow3\u001b[0m \u001b[0;34m=\u001b[0m \u001b[0mLexicon_time\u001b[0m\u001b[0;34m(\u001b[0m\u001b[0mall_tweets\u001b[0m\u001b[0;34m,\u001b[0m \u001b[0mw3_text\u001b[0m\u001b[0;34m,\u001b[0m \u001b[0;36m10\u001b[0m\u001b[0;34m,\u001b[0m \u001b[0;36m5\u001b[0m\u001b[0;34m)\u001b[0m\u001b[0;34m\u001b[0m\u001b[0;34m\u001b[0m\u001b[0m\n\u001b[0;32m----> 2\u001b[0;31m \u001b[0mwin3\u001b[0m \u001b[0;34m=\u001b[0m \u001b[0mwindow3\u001b[0m\u001b[0;34m.\u001b[0m\u001b[0mlex_expansion\u001b[0m\u001b[0;34m(\u001b[0m\u001b[0;34m)\u001b[0m\u001b[0;34m\u001b[0m\u001b[0;34m\u001b[0m\u001b[0m\n\u001b[0m",
      "\u001b[0;32m<ipython-input-159-b84a9c2d894a>\u001b[0m in \u001b[0;36mlex_expansion\u001b[0;34m(self)\u001b[0m\n\u001b[1;32m     67\u001b[0m             \u001b[0mmetrics\u001b[0m\u001b[0;34m[\u001b[0m\u001b[0mword\u001b[0m\u001b[0;34m]\u001b[0m\u001b[0;34m.\u001b[0m\u001b[0mappend\u001b[0m\u001b[0;34m(\u001b[0m\u001b[0mlen\u001b[0m\u001b[0;34m(\u001b[0m\u001b[0;34m[\u001b[0m\u001b[0mw\u001b[0m \u001b[0;32mfor\u001b[0m \u001b[0mw\u001b[0m \u001b[0;32min\u001b[0m \u001b[0mg2_clean\u001b[0m \u001b[0;32mif\u001b[0m \u001b[0mw\u001b[0m\u001b[0;34m==\u001b[0m\u001b[0mword\u001b[0m\u001b[0;34m]\u001b[0m\u001b[0;34m)\u001b[0m\u001b[0;34m)\u001b[0m  \u001b[0;31m# word count in corpus_2\u001b[0m\u001b[0;34m\u001b[0m\u001b[0;34m\u001b[0m\u001b[0m\n\u001b[1;32m     68\u001b[0m             \u001b[0mmetrics\u001b[0m\u001b[0;34m[\u001b[0m\u001b[0mword\u001b[0m\u001b[0;34m]\u001b[0m\u001b[0;34m.\u001b[0m\u001b[0mappend\u001b[0m\u001b[0;34m(\u001b[0m\u001b[0mlen\u001b[0m\u001b[0;34m(\u001b[0m\u001b[0;34m[\u001b[0m\u001b[0mw\u001b[0m \u001b[0;32mfor\u001b[0m \u001b[0mw\u001b[0m \u001b[0;32min\u001b[0m \u001b[0mg1_clean\u001b[0m \u001b[0;32mif\u001b[0m \u001b[0mw\u001b[0m\u001b[0;34m==\u001b[0m\u001b[0mword\u001b[0m\u001b[0;34m]\u001b[0m\u001b[0;34m)\u001b[0m\u001b[0;34m/\u001b[0m\u001b[0mg1_len\u001b[0m\u001b[0;34m)\u001b[0m  \u001b[0;31m# ratio of word count to corpus_1 length\u001b[0m\u001b[0;34m\u001b[0m\u001b[0;34m\u001b[0m\u001b[0m\n\u001b[0;32m---> 69\u001b[0;31m             \u001b[0mmetrics\u001b[0m\u001b[0;34m[\u001b[0m\u001b[0mword\u001b[0m\u001b[0;34m]\u001b[0m\u001b[0;34m.\u001b[0m\u001b[0mappend\u001b[0m\u001b[0;34m(\u001b[0m\u001b[0mlen\u001b[0m\u001b[0;34m(\u001b[0m\u001b[0;34m[\u001b[0m\u001b[0mw\u001b[0m \u001b[0;32mfor\u001b[0m \u001b[0mw\u001b[0m \u001b[0;32min\u001b[0m \u001b[0mg2_clean\u001b[0m \u001b[0;32mif\u001b[0m \u001b[0mw\u001b[0m\u001b[0;34m==\u001b[0m\u001b[0mword\u001b[0m\u001b[0;34m]\u001b[0m\u001b[0;34m)\u001b[0m\u001b[0;34m/\u001b[0m\u001b[0mg2_len\u001b[0m\u001b[0;34m)\u001b[0m  \u001b[0;31m# ratio of word count to corpus_2 length\u001b[0m\u001b[0;34m\u001b[0m\u001b[0;34m\u001b[0m\u001b[0m\n\u001b[0m\u001b[1;32m     70\u001b[0m \u001b[0;34m\u001b[0m\u001b[0m\n\u001b[1;32m     71\u001b[0m         \u001b[0;31m# Loop through through the defaultdict and append word ratio for the each word of the corpus\u001b[0m\u001b[0;34m\u001b[0m\u001b[0;34m\u001b[0m\u001b[0;34m\u001b[0m\u001b[0m\n",
      "\u001b[0;32m<ipython-input-159-b84a9c2d894a>\u001b[0m in \u001b[0;36m<listcomp>\u001b[0;34m(.0)\u001b[0m\n\u001b[1;32m     67\u001b[0m             \u001b[0mmetrics\u001b[0m\u001b[0;34m[\u001b[0m\u001b[0mword\u001b[0m\u001b[0;34m]\u001b[0m\u001b[0;34m.\u001b[0m\u001b[0mappend\u001b[0m\u001b[0;34m(\u001b[0m\u001b[0mlen\u001b[0m\u001b[0;34m(\u001b[0m\u001b[0;34m[\u001b[0m\u001b[0mw\u001b[0m \u001b[0;32mfor\u001b[0m \u001b[0mw\u001b[0m \u001b[0;32min\u001b[0m \u001b[0mg2_clean\u001b[0m \u001b[0;32mif\u001b[0m \u001b[0mw\u001b[0m\u001b[0;34m==\u001b[0m\u001b[0mword\u001b[0m\u001b[0;34m]\u001b[0m\u001b[0;34m)\u001b[0m\u001b[0;34m)\u001b[0m  \u001b[0;31m# word count in corpus_2\u001b[0m\u001b[0;34m\u001b[0m\u001b[0;34m\u001b[0m\u001b[0m\n\u001b[1;32m     68\u001b[0m             \u001b[0mmetrics\u001b[0m\u001b[0;34m[\u001b[0m\u001b[0mword\u001b[0m\u001b[0;34m]\u001b[0m\u001b[0;34m.\u001b[0m\u001b[0mappend\u001b[0m\u001b[0;34m(\u001b[0m\u001b[0mlen\u001b[0m\u001b[0;34m(\u001b[0m\u001b[0;34m[\u001b[0m\u001b[0mw\u001b[0m \u001b[0;32mfor\u001b[0m \u001b[0mw\u001b[0m \u001b[0;32min\u001b[0m \u001b[0mg1_clean\u001b[0m \u001b[0;32mif\u001b[0m \u001b[0mw\u001b[0m\u001b[0;34m==\u001b[0m\u001b[0mword\u001b[0m\u001b[0;34m]\u001b[0m\u001b[0;34m)\u001b[0m\u001b[0;34m/\u001b[0m\u001b[0mg1_len\u001b[0m\u001b[0;34m)\u001b[0m  \u001b[0;31m# ratio of word count to corpus_1 length\u001b[0m\u001b[0;34m\u001b[0m\u001b[0;34m\u001b[0m\u001b[0m\n\u001b[0;32m---> 69\u001b[0;31m             \u001b[0mmetrics\u001b[0m\u001b[0;34m[\u001b[0m\u001b[0mword\u001b[0m\u001b[0;34m]\u001b[0m\u001b[0;34m.\u001b[0m\u001b[0mappend\u001b[0m\u001b[0;34m(\u001b[0m\u001b[0mlen\u001b[0m\u001b[0;34m(\u001b[0m\u001b[0;34m[\u001b[0m\u001b[0mw\u001b[0m \u001b[0;32mfor\u001b[0m \u001b[0mw\u001b[0m \u001b[0;32min\u001b[0m \u001b[0mg2_clean\u001b[0m \u001b[0;32mif\u001b[0m \u001b[0mw\u001b[0m\u001b[0;34m==\u001b[0m\u001b[0mword\u001b[0m\u001b[0;34m]\u001b[0m\u001b[0;34m)\u001b[0m\u001b[0;34m/\u001b[0m\u001b[0mg2_len\u001b[0m\u001b[0;34m)\u001b[0m  \u001b[0;31m# ratio of word count to corpus_2 length\u001b[0m\u001b[0;34m\u001b[0m\u001b[0;34m\u001b[0m\u001b[0m\n\u001b[0m\u001b[1;32m     70\u001b[0m \u001b[0;34m\u001b[0m\u001b[0m\n\u001b[1;32m     71\u001b[0m         \u001b[0;31m# Loop through through the defaultdict and append word ratio for the each word of the corpus\u001b[0m\u001b[0;34m\u001b[0m\u001b[0;34m\u001b[0m\u001b[0;34m\u001b[0m\u001b[0m\n",
      "\u001b[0;31mKeyboardInterrupt\u001b[0m: "
     ]
    }
   ],
   "source": [
    "window3 = Lexicon_time(all_tweets, w3_text, 20, 10)\n",
    "win3 = window3.lex_expansion()"
   ]
  },
  {
   "cell_type": "code",
   "execution_count": null,
   "id": "ae4ccd95",
   "metadata": {},
   "outputs": [],
   "source": [
    "print(f'Group 1 tweets:')\n",
    "print(win3['Group_1']['Number_of_tweets'])\n",
    "print(f'Group 2 tweets:')\n",
    "print(win3['Group_2'][\"Number_of_tweets\"])\n",
    "print(win3[\"cutoff_statement\"])"
   ]
  },
  {
   "cell_type": "code",
   "execution_count": null,
   "id": "18f94e66",
   "metadata": {},
   "outputs": [],
   "source": [
    "print(f'Round 3: Group 1 v Group 2:')\n",
    "pprint(sorted(win3['Group1_vs_Group2'].items(), key = itemgetter(1), reverse = True))"
   ]
  },
  {
   "cell_type": "code",
   "execution_count": null,
   "id": "6af6ee44",
   "metadata": {},
   "outputs": [],
   "source": []
  },
  {
   "cell_type": "code",
   "execution_count": 164,
   "id": "48276c39",
   "metadata": {},
   "outputs": [
    {
     "data": {
      "image/png": "[encoded data removed]",
      "text/plain": [
       "<Figure size 432x288 with 1 Axes>"
      ]
     },
     "metadata": {
      "needs_background": "light"
     },
     "output_type": "display_data"
    }
   ],
   "source": [
    "# Plantbasedtreaty    \n",
    "x = [1, 2, 3]\n",
    "y = [240.71, 10, 0]\n",
    "plt.plot(x, y)\n",
    "  \n",
    "# Letsgetreal    \n",
    "x1 = [1, 2, 3]\n",
    "y1 = [265.23, 150, 400] \n",
    "# second plot with x1 and y1 data\n",
    "plt.plot(x1, y1)\n",
    "  \n",
    "# example    \n",
    "x2 = [1, 2, 3]\n",
    "y2 = [0, 0, 1050] \n",
    "# second plot with x1 and y1 data\n",
    "plt.plot(x2, y2)    \n",
    "\n",
    "plt.xlabel(\"Rolling 3-day Window\")\n",
    "plt.ylabel(\"Usage Index\")\n",
    "plt.title('#COP26 Tweets')\n",
    "plt.xticks([1, 2, 3], [\"10/28\\n10/31\", \"10/29\\n11/01\", \"10/30\\n11/02\"])\n",
    "plt.show()"
   ]
  },
  {
   "cell_type": "markdown",
   "id": "b31974e0",
   "metadata": {},
   "source": [
    "- Figure out how to populate the x and y axes automatically from the dictionary of results for each iteration. \n",
    "- Add labels of the word names\n",
    "- Add slider bar for the x axis to it can be interactive? User could slide the bar back and forth to more easily see how the usage changed throughout the conference. Bold items that correspond to the window the slider is on. \n",
    "- Add add'l layer of interactivity (toggle on/off?) that brings in info about what was being emphasized at different point of the conference. "
   ]
  },
  {
   "cell_type": "markdown",
   "id": "40d54ca2",
   "metadata": {},
   "source": [
    "<hr style=\"border:2px solid gray\"> </hr> "
   ]
  },
  {
   "cell_type": "markdown",
   "id": "42968887",
   "metadata": {},
   "source": [
    "<hr style=\"border:2px solid gray\"> </hr> "
   ]
  },
  {
   "cell_type": "markdown",
   "id": "57ba4238",
   "metadata": {},
   "source": [
    "# Lexicon expansion function to analyze tweets by group"
   ]
  },
  {
   "cell_type": "markdown",
   "id": "a41fca8d",
   "metadata": {},
   "source": [
    "#### ROUND 1\n",
    "<hr style=\"border:2px solid gray\"> </hr> "
   ]
  },
  {
   "cell_type": "markdown",
   "id": "840d7ebe",
   "metadata": {},
   "source": [
    "#### Breaking groups by search terms"
   ]
  },
  {
   "cell_type": "markdown",
   "id": "6e8f8b65",
   "metadata": {},
   "source": [
    "r\"#[copCOP]+26\"\n"
   ]
  },
  {
   "cell_type": "code",
   "execution_count": null,
   "id": "ed5d83d6",
   "metadata": {},
   "outputs": [],
   "source": [
    "class Lexicon :\n",
    "    def __init__(self, corpus, search_condition, num_words, ratio_cutoff):\n",
    "        self.corpus = list(corpus)\n",
    "        self.search_condition = search_condition\n",
    "        self.num_words = num_words\n",
    "        self.ratio_cutoff = ratio_cutoff\n",
    "        \n",
    "    def parameters(self) :\n",
    "        print(f'The corpus is {\"{:,}\".format(len(self.corpus))} total tweets')\n",
    "        print(f\"The search string is {self.search_condition}\")\n",
    "        print(f\"Words must appear {self.ratio_cutoff} times in both corpora to be included in analysis\")\n",
    "        print(f\"Output for {self.num_words} words is returned\")\n",
    "        \n",
    "    def lex_expansion(self) :\n",
    "\n",
    "        # Set starting marker for keeping track of how long the function runs\n",
    "        start_time = datetime.datetime.now()\n",
    "\n",
    "        group_1 = []\n",
    "\n",
    "        for string in self.corpus :\n",
    "            if self.search_condition.search(string) :\n",
    "                group_1.append(string)\n",
    "\n",
    "        full_group_1 = list(group_1)        \n",
    "        group_1 = list(set(group_1))\n",
    "        group_2 = [string for string in self.corpus if string not in group_1]\n",
    "\n",
    "        full_group_1_tweets = (\"{:,}\".format(len(full_group_1)))\n",
    "        group_1_tweets = (\"{:,}\".format(len(group_1)))\n",
    "        group_2_tweets = (\"{:,}\".format(len(group_2)))    \n",
    "\n",
    "        # Tokenize the two groups by first turning them each into single large strings\n",
    "        g1_str = \" \".join(group_1)    \n",
    "        g2_str = \" \".join(group_2)\n",
    "\n",
    "        # Then splitting each into lists of strings. Once we've created groups, we no longer need to know\n",
    "        # which words came from which specific tweets, as long as we keep track of which group the \n",
    "        # words come from.\n",
    "        # We also tokenize and normalize at this stage. We want to remove stopwords, but retain numeric as numbers\n",
    "        # could be used in interesting words, hashtags, or accounts in a corpus of tweets. \n",
    "        g1_uclean = [w for w in g1_str.split()]\n",
    "        g2_uclean = [w for w in g2_str.split()]\n",
    "\n",
    "        g1_clean = [w for w in g1_str.split() if w.lower() not in sw2]\n",
    "        g2_clean = [w for w in g2_str.split()if w.lower() not in sw2]\n",
    "\n",
    "        g1_len = len(g1_clean)\n",
    "        g2_len = len(g2_clean)\n",
    "\n",
    "        # SECT2: CREATE \"CUTOFF_LIST\" LIST OF WORDS THAT MEET CUTOFF RATIO\n",
    "        # Create Counter dictionary of each corpus, used for determining words that meet cutoff ratio\n",
    "        wcount_one = Counter(g1_clean)\n",
    "        wcount_two = Counter(g2_clean)\n",
    "\n",
    "        # Create list of words that meet the ratio cutoff in BOTH corpora, print result\n",
    "        cutoff_list = list()\n",
    "        candidate_words = list(wcount_one.keys()) + list(wcount_two.keys())\n",
    "        candidate_words = set(candidate_words)\n",
    "        for word in candidate_words :\n",
    "            if wcount_one[word] >= self.ratio_cutoff and wcount_two[word] >= self.ratio_cutoff :\n",
    "                cutoff_list.append(word)\n",
    "\n",
    "        cutoff_statement = f'There are {\"{:,}\".format(len(cutoff_list))} words that meet the usage cutoff of {self.ratio_cutoff} appearances in both Group 1 and Group 2'\n",
    "\n",
    "        # SECT3: CALCULATE METRICS ON WORDS IN CUTOFF_LIST\n",
    "        # Create \"metrics\", an intermediate dict to hold data that will be passed \n",
    "        # to different dictionaries in the final \"results\" dict of dicts output\n",
    "        metrics = defaultdict(list)\n",
    "\n",
    "        for word in cutoff_list:        \n",
    "            metrics[word].append(len([w for w in g1_clean if w==word]))  # word count in corpus_1\n",
    "            metrics[word].append(len([w for w in g2_clean if w==word]))  # word count in corpus_2\n",
    "            metrics[word].append(len([w for w in g1_clean if w==word])/g1_len)  # ratio of word count to corpus_1 length\n",
    "            metrics[word].append(len([w for w in g2_clean if w==word])/g2_len)  # ratio of word count to corpus_2 length \n",
    "\n",
    "        # Loop through through the defaultdict and append word ratio for the each word of the corpus\n",
    "        for word, nums in metrics.items() :\n",
    "            # Make sure any zero ratios are excluded\n",
    "            if (nums[2] * nums[3] > 0) :\n",
    "                metrics[word].append(nums[2]/nums[3])  # appends Corpus_1/Corpus_2 index\n",
    "                metrics[word].append(nums[3]/nums[2])  # appends Corpus_2/Corpus_1 index\n",
    "            else :\n",
    "                metrics[word].append(None)\n",
    "                metrics[word].append(None)\n",
    "\n",
    "\n",
    "        # SECT4: APPEND RESPECTIVE INDEXES (CORP1/CORP2 RATIO AND CORP2/CORP1 RATIO) TO \"METRICS\" DICT\n",
    "        one_v_two = defaultdict(list)\n",
    "        two_v_one = defaultdict(list)\n",
    "\n",
    "        # Append word/index pair in \"one_v_two\" dict\n",
    "        for word, nums in metrics.items() :\n",
    "            one_v_two[word].append(nums[4])\n",
    "\n",
    "        # Sort \"one_v_two\" down to just the \"num_words\" key:value pairs,\n",
    "        # sorted in descending order of index ratio.\n",
    "        one_v_two_sort = dict(sorted(one_v_two.items(), key = itemgetter(1), reverse = True)[:self.num_words])\n",
    "\n",
    "        # Lastly, round those values to two decimal points for readability    \n",
    "        for dict_value in one_v_two_sort :\n",
    "            for k, v in one_v_two_sort.items() :\n",
    "                one_v_two_sort[k] = [round(v,2) for v in one_v_two_sort[k]]\n",
    "\n",
    "        # Same process for \"two_v_one\"\n",
    "        # Append word/index pair in \"two_v_one\" dict\n",
    "        for word, nums in metrics.items() :\n",
    "            two_v_one[word].append(nums[5])\n",
    "\n",
    "        # Sort \"two_v_one\" down to just the \"num_words\" key:value pairs, \n",
    "        # sorted in descending order of index ratio.\n",
    "        two_v_one_sort = dict(sorted(two_v_one.items(), key = itemgetter(1), reverse = True)[:self.num_words])         \n",
    "\n",
    "        # Lastly, round those values to two decimal points for readability    \n",
    "        for dict_value in two_v_one_sort :\n",
    "            for k, v in two_v_one_sort.items() :\n",
    "                two_v_one_sort[k] = [round(v,2) for v in two_v_one_sort[k]]      \n",
    "\n",
    "\n",
    "        # SECT5: CALCULATE METRICS FOR \"CORP1\" AND \"CORP2\" KEYS IN \"RESULTS\" FINAL DICT\n",
    "        # Descriptive stats calcs for corpus_1\n",
    "        total_tokens_1 = len(g1_clean)\n",
    "        unique_tokens_1 = len(set(g1_clean))\n",
    "        word_len_1 = [len(w) for w in g1_clean]\n",
    "        avg_token_len_1 = np.mean(word_len_1)\n",
    "        lex_diversity_1 = len(set(g1_clean))/len(g1_clean)\n",
    "        top_n_1 = Counter(g1_clean).most_common(self.num_words)\n",
    "\n",
    "        # Descriptive stats calcs for corpus_2\n",
    "        total_tokens_2 = len(g2_clean)\n",
    "        unique_tokens_2 = len(set(g2_clean))\n",
    "        word_len_2 = [len(w) for w in g2_clean]\n",
    "        avg_token_len_2 = np.mean(word_len_2)\n",
    "        lex_diversity_2 = len(set(g2_clean))/len(g2_clean)\n",
    "        top_n_2 = Counter(g2_clean).most_common(self.num_words)\n",
    "\n",
    "\n",
    "        # SECT6: BRING EVERYTHING TOGETHER IN \"RESULTS\" FINAL DICT\n",
    "        results1 = {'Group_1': {'Full_tweets':full_group_1_tweets,\n",
    "                                'Number_of_tweets':group_1_tweets,\n",
    "                                'Number_of_words':total_tokens_1,\n",
    "                              'Unique_words':unique_tokens_1,\n",
    "                              'Avg _length':round(avg_token_len_1, 2),\n",
    "                              'Lexical_diversity':round(lex_diversity_1, 2),\n",
    "                              'Top_'+str(self.num_words):top_n_1},\n",
    "                   'Group_2': {'Number_of_tweets':group_2_tweets,\n",
    "                               'Number_of_words':total_tokens_2,\n",
    "                              'Unique_words':unique_tokens_2,\n",
    "                              'Avg_word_length':round(avg_token_len_2, 2),\n",
    "                              'Lexical_diversity':round(lex_diversity_2, 2),\n",
    "                              'Top_'+str(self.num_words):top_n_2},\n",
    "                   'Group1_vs_Group2': one_v_two_sort,\n",
    "                   'Group2_vs_Group1': two_v_one_sort,\n",
    "                   'cutoff_statement': cutoff_statement}\n",
    "\n",
    "        # Print elapsed time after function has run\n",
    "        end_time = datetime.datetime.now()\n",
    "        elapsed_time = end_time - start_time\n",
    "        print(elapsed_time)\n",
    "        return(results1)"
   ]
  },
  {
   "cell_type": "code",
   "execution_count": 43,
   "id": "50d57bd3",
   "metadata": {},
   "outputs": [],
   "source": [
    "search_1 = re.compile(r\"activis[mt]\\w?\") # match either uppercase #COP26 or lowercase #cop26\n",
    "r1 = Lexicon(all_tweets, search_1, 10, 5)"
   ]
  },
  {
   "cell_type": "code",
   "execution_count": 44,
   "id": "6f6c20ee",
   "metadata": {
    "scrolled": true
   },
   "outputs": [
    {
     "name": "stdout",
     "output_type": "stream",
     "text": [
      "The corpus is 150,000 total tweets\n",
      "The search string is re.compile('activis[mt]\\\\w?')\n",
      "Words must appear 5 times in both corpora to be included in analysis\n",
      "Output for 10 words is returned\n"
     ]
    }
   ],
   "source": [
    "r1.parameters()"
   ]
  },
  {
   "cell_type": "code",
   "execution_count": 45,
   "id": "44229747",
   "metadata": {},
   "outputs": [
    {
     "name": "stdout",
     "output_type": "stream",
     "text": [
      "0:03:02.711628\n"
     ]
    }
   ],
   "source": [
    "round1 = r1.lex_expansion()"
   ]
  },
  {
   "cell_type": "code",
   "execution_count": 46,
   "id": "734f5683",
   "metadata": {},
   "outputs": [
    {
     "name": "stdout",
     "output_type": "stream",
     "text": [
      "Group 1 tweets:\n",
      "3,432\n",
      "572\n",
      "Group 2 tweets:\n",
      "146,568\n",
      "There are 253 words that meet the usage cutoff of 5 appearances in both Group 1 and Group 2\n"
     ]
    }
   ],
   "source": [
    "print(f'Group 1 tweets:')\n",
    "print(round1['Group_1']['Full_tweets'])\n",
    "print(round1['Group_1']['Number_of_tweets'])\n",
    "print(f'Group 2 tweets:')\n",
    "print(round1['Group_2'][\"Number_of_tweets\"])\n",
    "print(round1[\"cutoff_statement\"])"
   ]
  },
  {
   "cell_type": "code",
   "execution_count": 47,
   "id": "0826e88e",
   "metadata": {
    "scrolled": false
   },
   "outputs": [
    {
     "name": "stdout",
     "output_type": "stream",
     "text": [
      "Round 1: Group 1 v Group 2:\n",
      "[('offsets,', [3047.26]),\n",
      " ('.@s_guilbeault', [2978.0]),\n",
      " ('defied', [1662.14]),\n",
      " ('fuels!', [1540.94]),\n",
      " ('@GreenpeaceCA', [1540.94]),\n",
      " ('heights', [1540.94]),\n",
      " ('tables', [727.19]),\n",
      " ('climate-safe', [623.3]),\n",
      " ('sailing', [484.79]),\n",
      " ('Bangladesh', [332.43])]\n"
     ]
    }
   ],
   "source": [
    "print(f'Round 1: Group 1 v Group 2:')\n",
    "pprint(sorted(round1['Group1_vs_Group2'].items(), key = itemgetter(1), reverse = True))"
   ]
  },
  {
   "cell_type": "code",
   "execution_count": 48,
   "id": "05420cf9",
   "metadata": {
    "scrolled": false
   },
   "outputs": [
    {
     "name": "stdout",
     "output_type": "stream",
     "text": [
      "Round 1: Group 2 v Group 1:\n",
      "[('one', [5.11]),\n",
      " ('#ClimateCrisis', [4.0]),\n",
      " ('#COP26Glasgow', [3.54]),\n",
      " ('carbon', [3.07]),\n",
      " ('#ClimateEmergency', [3.05]),\n",
      " ('via', [2.79]),\n",
      " ('need', [2.67]),\n",
      " ('know', [2.6]),\n",
      " ('get', [2.55]),\n",
      " ('planet', [2.47])]\n"
     ]
    }
   ],
   "source": [
    "print(f'Round 1: Group 2 v Group 1:')\n",
    "pprint(sorted(round1['Group2_vs_Group1'].items(), key = itemgetter(1), reverse = True))"
   ]
  },
  {
   "cell_type": "markdown",
   "id": "b9e1dcbd",
   "metadata": {
    "cell_style": "split",
    "slideshow": {
     "slide_type": "slide"
    }
   },
   "source": [
    "#### ROUND 2\n",
    "<hr style=\"border:2px solid gray\"> </hr> "
   ]
  },
  {
   "cell_type": "code",
   "execution_count": 49,
   "id": "31841d12",
   "metadata": {},
   "outputs": [],
   "source": [
    "search_2 = re.compile(r\"activis[mt]\\w?|\\bdefied|\\boffsets?\\b\") # match either uppercase #COP26 or lowercase #cop26\n",
    "r2 = Lexicon(all_tweets, search_2, 10, 5)"
   ]
  },
  {
   "cell_type": "code",
   "execution_count": 50,
   "id": "77e35f26",
   "metadata": {
    "scrolled": true
   },
   "outputs": [
    {
     "name": "stdout",
     "output_type": "stream",
     "text": [
      "The corpus is 150,000 total tweets\n",
      "The search string is re.compile('activis[mt]\\\\w?|\\\\bdefied|\\\\boffsets?\\\\b')\n",
      "Words must appear 5 times in both corpora to be included in analysis\n",
      "Output for 10 words is returned\n"
     ]
    }
   ],
   "source": [
    "r2.parameters()"
   ]
  },
  {
   "cell_type": "code",
   "execution_count": 51,
   "id": "aa155a88",
   "metadata": {},
   "outputs": [
    {
     "name": "stdout",
     "output_type": "stream",
     "text": [
      "0:01:54.589681\n"
     ]
    }
   ],
   "source": [
    "round2 = r2.lex_expansion()"
   ]
  },
  {
   "cell_type": "code",
   "execution_count": 52,
   "id": "b86cadee",
   "metadata": {},
   "outputs": [
    {
     "name": "stdout",
     "output_type": "stream",
     "text": [
      "Group 2 tweets:\n",
      "3,732\n",
      "611\n",
      "Group 2 tweets:\n",
      "146,268\n",
      "There are 268 words that meet the usage cutoff of 5 appearances in both Group 1 and Group 2\n"
     ]
    }
   ],
   "source": [
    "print(f'Group 2 tweets:')\n",
    "print(round2['Group_1']['Full_tweets'])\n",
    "print(round2['Group_1']['Number_of_tweets'])\n",
    "print(f'Group 2 tweets:')\n",
    "print(round2['Group_2'][\"Number_of_tweets\"])\n",
    "print(round2[\"cutoff_statement\"])"
   ]
  },
  {
   "cell_type": "code",
   "execution_count": 53,
   "id": "5f4278bf",
   "metadata": {
    "scrolled": false
   },
   "outputs": [
    {
     "name": "stdout",
     "output_type": "stream",
     "text": [
      "Round 2: Group 1 v Group 2:\n",
      "[('.@s_guilbeault', [2798.59]),\n",
      " ('fuels!', [1448.11]),\n",
      " ('@GreenpeaceCA', [1448.11]),\n",
      " ('heights', [1448.11]),\n",
      " ('tables', [683.38]),\n",
      " ('climate-safe', [585.75]),\n",
      " ('sailing', [455.58]),\n",
      " ('Bangladesh', [312.4]),\n",
      " ('YES', [286.37]),\n",
      " ('odds', [260.33])]\n"
     ]
    }
   ],
   "source": [
    "print(f'Round 2: Group 1 v Group 2:')\n",
    "pprint(sorted(round2['Group1_vs_Group2'].items(), key = itemgetter(1), reverse = True))"
   ]
  },
  {
   "cell_type": "code",
   "execution_count": 54,
   "id": "ab98f97a",
   "metadata": {
    "scrolled": true
   },
   "outputs": [
    {
     "name": "stdout",
     "output_type": "stream",
     "text": [
      "Round 2: Group 2 v Group 1:\n",
      "[('one', [5.44]),\n",
      " ('@COP26', [3.46]),\n",
      " ('#COP26Glasgow', [3.4]),\n",
      " ('#ClimateCrisis', [3.31]),\n",
      " ('#ClimateEmergency', [3.25]),\n",
      " ('emissions', [3.03]),\n",
      " ('know', [2.77]),\n",
      " ('get', [2.71]),\n",
      " ('end', [2.68]),\n",
      " ('Scotland', [2.51])]\n"
     ]
    }
   ],
   "source": [
    "print(f'Round 2: Group 2 v Group 1:')\n",
    "pprint(sorted(round2['Group2_vs_Group1'].items(), key = itemgetter(1), reverse = True))"
   ]
  }
 ],
 "metadata": {
  "kernelspec": {
   "display_name": "Python 3",
   "language": "python",
   "name": "python3"
  },
  "language_info": {
   "codemirror_mode": {
    "name": "ipython",
    "version": 3
   },
   "file_extension": ".py",
   "mimetype": "text/x-python",
   "name": "python",
   "nbconvert_exporter": "python",
   "pygments_lexer": "ipython3",
   "version": "3.8.8"
  }
 },
 "nbformat": 4,
 "nbformat_minor": 5
}
