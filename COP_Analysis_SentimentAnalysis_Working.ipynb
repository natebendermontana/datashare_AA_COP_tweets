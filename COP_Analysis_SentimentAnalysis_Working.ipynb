{
 "cells": [
  {
   "cell_type": "markdown",
   "id": "5ec647a0",
   "metadata": {},
   "source": [
    "sentiment analysis over time\n",
    "\n",
    "volume of tweets\n",
    "\n",
    "do group comparison of the first three days versus all other days of the convention. Then shift the window one day and analyze again. Over and over throughout the convention. \n",
    "\n",
    "maybe display the top five words by index throughout the convention. \n"
   ]
  },
  {
   "cell_type": "markdown",
   "id": "a68f5f07",
   "metadata": {},
   "source": [
    "###  Issues to address"
   ]
  },
  {
   "cell_type": "markdown",
   "id": "3dfd2509",
   "metadata": {},
   "source": [
    "deal with carriage returns\n",
    "\n",
    "tab-separator\n",
    "\n",
    "deal with hashtags separators"
   ]
  },
  {
   "cell_type": "markdown",
   "id": "808ac66c",
   "metadata": {},
   "source": [
    "### Import packages / setup"
   ]
  },
  {
   "cell_type": "code",
   "execution_count": null,
   "id": "a33b25bb",
   "metadata": {},
   "outputs": [],
   "source": [
    "import numpy as np\n",
    "import pandas as pd\n",
    "import os\n",
    "import sqlite3\n",
    "from nltk.corpus import stopwords\n",
    "sw2 = stopwords.words(\"english\")\n",
    "from string import punctuation\n",
    "punctuation = set(punctuation)\n",
    "punctuation.add(\"’\")\n",
    "import datetime\n",
    "import time\n",
    "from random import sample\n",
    "import random\n",
    "\n",
    "import gensim\n",
    "import gensim.corpora as corpora\n",
    "from gensim.utils import simple_preprocess\n",
    "from gensim.models import CoherenceModel,LdaMulticore, Phrases \n",
    "from gensim.models.phrases import Phraser \n",
    "from gensim.corpora import Dictionary\n",
    "\n",
    "import pyLDAvis\n",
    "import pyLDAvis.gensim_models\n",
    "\n",
    "import spacy\n",
    "from spacy.lang.en.stop_words import STOP_WORDS\n",
    "\n",
    "from pprint import pprint\n",
    "from collections import Counter, defaultdict\n",
    "\n",
    "nlp = spacy.load('en_core_web_sm')\n",
    "\n",
    "Lemmatizer = nlp.get_pipe(\"lemmatizer\")"
   ]
  },
  {
   "cell_type": "code",
   "execution_count": 1,
   "id": "7eb69ac2",
   "metadata": {},
   "outputs": [],
   "source": [
    "import datetime\n",
    "import tweepy\n",
    "from tweepy import OAuthHandler\n",
    "import json\n",
    "import pandas as pd\n",
    "import csv\n",
    "import re\n",
    "import string\n",
    "import os\n",
    "import time\n",
    "import random\n",
    "import numpy as np\n",
    "from nltk.corpus import stopwords\n",
    "sw = stopwords.words('english')\n",
    "from string import punctuation\n",
    "from collections import Counter, defaultdict\n",
    "from pprint import pprint\n",
    "from operator import itemgetter\n",
    "import matplotlib.pyplot as plt\n",
    "\n",
    "\n",
    "# I've put my API keys in a .py file called API_keys.py\n",
    "from my_api_keys import api_key, api_key_secret, access_token, access_token_secret"
   ]
  },
  {
   "cell_type": "code",
   "execution_count": 2,
   "id": "a9f4f4d7",
   "metadata": {},
   "outputs": [],
   "source": [
    "# Authenticate the Tweepy API\n",
    "auth = tweepy.OAuthHandler(api_key,api_key_secret)\n",
    "auth.set_access_token(access_token, access_token_secret)\n",
    "api = tweepy.API(auth,wait_on_rate_limit=True)"
   ]
  },
  {
   "cell_type": "code",
   "execution_count": 3,
   "id": "683e2b7f",
   "metadata": {
    "slideshow": {
     "slide_type": "skip"
    }
   },
   "outputs": [],
   "source": [
    "# Modifications to punctuation and sw lists\n",
    "\n",
    "punctuation = set(punctuation)\n",
    "punctuation.add(\"’\")\n",
    "\n",
    "sw2 = set(sw)\n",
    "addl = (\"|\",\"-\",\"/\",\"•\",\"&\", \"&amp;\")\n",
    "sw2.update(addl)"
   ]
  },
  {
   "cell_type": "markdown",
   "id": "298fc430",
   "metadata": {},
   "source": [
    "####  Read daily tweets CSVs into pandas dataframe"
   ]
  },
  {
   "cell_type": "code",
   "execution_count": 4,
   "id": "71ae473b",
   "metadata": {},
   "outputs": [],
   "source": [
    "db = pd.DataFrame(columns = ['user_id','screen_name','description','location','friends_count',\n",
    "           'followers_count','totaltweets','date_created', 'tweet_id', 'retweetcount','full_text'])\n",
    "\n",
    "file_location = \"/Users/natebender/Desktop/Repo/text-mining/datashare_AA_COP_tweets/data/\"\n",
    "files = sorted(os.listdir(file_location))\n",
    "for idx, file in enumerate(files):\n",
    "    \n",
    "    data = \"\".join([file_location,file])\n",
    "    datafile = pd.read_csv(data)\n",
    "\n",
    "    db = db.append(datafile,ignore_index=True)"
   ]
  },
  {
   "cell_type": "code",
   "execution_count": 5,
   "id": "ce513612",
   "metadata": {},
   "outputs": [],
   "source": [
    "# Check desc stats on overall descriptions before splitting into groups\n",
    "def get_patterns(all_tweets) :\n",
    "\n",
    "    all_desc = all_tweets.dropna()\n",
    "    all_str = \" \".join(all_desc)    \n",
    "    clean = [w for w in all_str.split() if w.lower() not in sw2]\n",
    "    \n",
    "    # Calculate your statistics here\n",
    "    total_tokens = len(clean)\n",
    "    unique_tokens = len(set(clean))\n",
    "    clean_tok_len = [len(w) for w in clean]\n",
    "    avg_token_len = np.mean(clean_tok_len)\n",
    "    lex_diversity = len(set(clean))/len(clean)\n",
    "    top_n = Counter(clean).most_common(20)\n",
    "    \n",
    "    \n",
    "    # Now we'll fill out the dictionary. \n",
    "    results = {'tokens':total_tokens,\n",
    "               'unique_tokens':unique_tokens,\n",
    "               'avg_token_length':round(avg_token_len,2),\n",
    "               'lexical_diversity':round(lex_diversity,2),\n",
    "               'Top_n':top_n}\n",
    "\n",
    "    return(results)"
   ]
  },
  {
   "cell_type": "markdown",
   "id": "689ea17d",
   "metadata": {},
   "source": [
    "### Desc stats on database"
   ]
  },
  {
   "cell_type": "code",
   "execution_count": 6,
   "id": "5cf7beb4",
   "metadata": {},
   "outputs": [
    {
     "name": "stdout",
     "output_type": "stream",
     "text": [
      "Database: 285,084 tweets\n",
      "Descriptive stats are:\n"
     ]
    },
    {
     "data": {
      "text/plain": [
       "{'tokens': 5523996,\n",
       " 'unique_tokens': 170153,\n",
       " 'avg_token_length': 7.82,\n",
       " 'lexical_diversity': 0.03,\n",
       " 'Top_n': [('#COP26', 227147),\n",
       "  ('climate', 57446),\n",
       "  ('#COP26Glasgow', 24133),\n",
       "  ('world', 20434),\n",
       "  ('#cop26', 18871),\n",
       "  ('need', 18435),\n",
       "  ('fossil', 17574),\n",
       "  ('change', 15756),\n",
       "  ('#Unknown', 15720),\n",
       "  ('leaders', 14933),\n",
       "  ('people', 13392),\n",
       "  ('#ClimateAction', 13153),\n",
       "  ('Climate', 12960),\n",
       "  ('Glasgow', 12833),\n",
       "  ('global', 11994),\n",
       "  ('action', 11760),\n",
       "  ('#ClimateCrisis', 11448),\n",
       "  ('#COP26.', 10836),\n",
       "  ('us', 10811),\n",
       "  ('like', 10464)]}"
      ]
     },
     "execution_count": 6,
     "metadata": {},
     "output_type": "execute_result"
    }
   ],
   "source": [
    "# Drop NA values from description column\n",
    "all_tweets = db.full_text.dropna()\n",
    "print(f'Database: {\"{:,}\".format(len(db.tweet_id))} tweets')\n",
    "#print(f'Date range: {db.date_created.min()} to {db.date_created.max()}')\n",
    "print(f'Descriptive stats are:')\n",
    "get_patterns(all_tweets)"
   ]
  },
  {
   "cell_type": "markdown",
   "id": "354b8c50",
   "metadata": {},
   "source": [
    "### Lexicon expansion function to analyze tweets by time series window"
   ]
  },
  {
   "cell_type": "code",
   "execution_count": 93,
   "id": "07a75f31",
   "metadata": {},
   "outputs": [],
   "source": [
    "# Subset dataframe to multiple 3-day windows\n",
    "\n",
    "w1_text = db.full_text[(db['date_created']>= \"2021-10-28\") & (db['date_created']< \"2021-10-29\")]\n",
    "w2_text = db.full_text[(db['date_created']>= \"2021-10-29\") & (db['date_created']< \"2021-10-30\")]\n",
    "w3_text = db.full_text[(db['date_created']>= \"2021-10-30\") & (db['date_created']< \"2021-10-31\")]\n",
    "w4_text = db.full_text[(db['date_created']>= \"2021-10-31\") & (db['date_created']< \"2021-11-01\")]\n",
    "w5_text = db.full_text[(db['date_created']>= \"2021-11-01\") & (db['date_created']< \"2021-11-02\")]\n",
    "w6_text = db.full_text[(db['date_created']>= \"2021-11-02\") & (db['date_created']< \"2021-11-03\")]\n",
    "w7_text = db.full_text[(db['date_created']>= \"2021-11-03\") & (db['date_created']< \"2021-11-04\")]\n",
    "w8_text = db.full_text[(db['date_created']>= \"2021-11-04\") & (db['date_created']< \"2021-11-05\")]\n",
    "w9_text = db.full_text[(db['date_created']>= \"2021-11-05\") & (db['date_created']< \"2021-11-06\")]\n",
    "w10_text = db.full_text[(db['date_created']>= \"2021-11-06\") & (db['date_created']< \"2021-11-07\")]\n",
    "w11_text = db.full_text[(db['date_created']>= \"2021-11-07\") & (db['date_created']< \"2021-11-08\")]\n",
    "w12_text = db.full_text[(db['date_created']>= \"2021-11-08\") & (db['date_created']< \"2021-11-09\")]\n",
    "w13_text = db.full_text[(db['date_created']>= \"2021-11-09\") & (db['date_created']< \"2021-11-10\")]\n",
    "w14_text = db.full_text[(db['date_created']>= \"2021-11-10\") & (db['date_created']< \"2021-11-11\")]\n",
    "w15_text = db.full_text[(db['date_created']>= \"2021-11-11\") & (db['date_created']< \"2021-11-12\")]\n",
    "w16_text = db.full_text[(db['date_created']>= \"2021-11-12\") & (db['date_created']< \"2021-11-13\")]\n",
    "w17_text = db.full_text[(db['date_created']>= \"2021-11-13\") & (db['date_created']< \"2021-11-14\")]\n",
    "w18_text = db.full_text[(db['date_created']>= \"2021-11-14\") & (db['date_created']< \"2021-11-15\")]\n",
    "w19_text = db.full_text[(db['date_created']>= \"2021-11-15\") & (db['date_created']< \"2021-11-16\")]"
   ]
  },
  {
   "cell_type": "code",
   "execution_count": 108,
   "id": "dc1b4c7d",
   "metadata": {},
   "outputs": [],
   "source": [
    "import random\n",
    "import nltk\n",
    "from nltk.sentiment import SentimentAnalyzer\n",
    "from nltk.sentiment.util import *\n",
    "from matplotlib.pyplot import text\n"
   ]
  },
  {
   "cell_type": "code",
   "execution_count": 95,
   "id": "ffe54822",
   "metadata": {},
   "outputs": [],
   "source": [
    "# Sets up sentiment scores dictionary\n",
    "\n",
    "sentiment_scores = {}\n",
    "\n",
    "with open(\"tidytext_sentiments.txt\",'r') as infile :\n",
    "    next(infile)\n",
    "    for line in infile.readlines() :\n",
    "        line = line.strip().split(\"\\t\")\n",
    "        if line[1] == \"positive\" :\n",
    "            sentiment_scores[line[0]] = 1\n",
    "        else :\n",
    "            sentiment_scores[line[0]] = -1"
   ]
  },
  {
   "cell_type": "code",
   "execution_count": 96,
   "id": "6b1f252e",
   "metadata": {},
   "outputs": [],
   "source": [
    "dailytweets = [w1_text, w2_text, w3_text, w4_text, w5_text, w6_text, w7_text, w8_text, w9_text, w10_text,\n",
    "              w11_text, w12_text, w13_text, w14_text, w15_text, w16_text, w17_text, w18_text, w19_text]"
   ]
  },
  {
   "cell_type": "code",
   "execution_count": 97,
   "id": "84199804",
   "metadata": {},
   "outputs": [],
   "source": [
    "def sentiment_bywindow(timewindow) :\n",
    "    tweets = list(timewindow)\n",
    "    tweets_str = \" \".join(tweets) \n",
    "    tweets_clean = [w for w in tweets_str.split() if w.lower() not in sw2]\n",
    "    \n",
    "    scores = []\n",
    "    current_score = 0 \n",
    "\n",
    "    for idx, word in enumerate(tweets_clean) :\n",
    "        if word in sentiment_scores :\n",
    "            current_score += sentiment_scores[word.lower()]\n",
    "    \n",
    "    scores.append(current_score)\n",
    "        \n",
    "#     filename = str(timewindow) + \"_scores.csv\"    \n",
    "#     with open(filename,'w') as ofile :\n",
    "#         ofile.write(\"word\\tscore\\n\")\n",
    "#         for idx, score in enumerate(scores) :\n",
    "#             ofile.write(\"\\t\".join([str(idx+1),str(score)]) + \"\\n\")\n",
    "      \n",
    "    return(scores)"
   ]
  },
  {
   "cell_type": "code",
   "execution_count": 98,
   "id": "45c5d4fa",
   "metadata": {},
   "outputs": [
    {
     "data": {
      "text/plain": [
       "[10260]"
      ]
     },
     "execution_count": 98,
     "metadata": {},
     "output_type": "execute_result"
    }
   ],
   "source": [
    "sentiment_bywindow(w1_text)"
   ]
  },
  {
   "cell_type": "code",
   "execution_count": 99,
   "id": "6256cdaa",
   "metadata": {},
   "outputs": [],
   "source": [
    "totalscores = []\n",
    "\n",
    "for item in dailytweets:\n",
    "    score = sentiment_bywindow(item)\n",
    "    totalscores.append(score)"
   ]
  },
  {
   "cell_type": "code",
   "execution_count": 100,
   "id": "1750e1e4",
   "metadata": {},
   "outputs": [
    {
     "data": {
      "text/plain": [
       "[[10260],\n",
       " [10476],\n",
       " [7653],\n",
       " [6590],\n",
       " [6758],\n",
       " [8958],\n",
       " [11154],\n",
       " [10800],\n",
       " [10664],\n",
       " [9447],\n",
       " [11382],\n",
       " [9083],\n",
       " [9462],\n",
       " [12092],\n",
       " [11052],\n",
       " [10788],\n",
       " [6786],\n",
       " [6291],\n",
       " [10225]]"
      ]
     },
     "execution_count": 100,
     "metadata": {},
     "output_type": "execute_result"
    }
   ],
   "source": [
    "totalscores"
   ]
  },
  {
   "cell_type": "code",
   "execution_count": 101,
   "id": "f03485a9",
   "metadata": {},
   "outputs": [],
   "source": [
    "anothergoddamnlist = []\n",
    "\n",
    "for item in totalscores:\n",
    "    anothergoddamnlist.append(item[0])"
   ]
  },
  {
   "cell_type": "code",
   "execution_count": 121,
   "id": "3055ddcc",
   "metadata": {},
   "outputs": [
    {
     "data": {
      "text/plain": [
       "19"
      ]
     },
     "execution_count": 121,
     "metadata": {},
     "output_type": "execute_result"
    }
   ],
   "source": [
    "anothergoddamnlist"
   ]
  },
  {
   "cell_type": "code",
   "execution_count": 114,
   "id": "5f788a70",
   "metadata": {},
   "outputs": [],
   "source": [
    "import datetime\n",
    "import matplotlib.pyplot as plt"
   ]
  },
  {
   "cell_type": "code",
   "execution_count": 153,
   "id": "a3e47606",
   "metadata": {},
   "outputs": [
    {
     "data": {
      "image/png": "[encoded data removed]",
      "text/plain": [
       "<Figure size 1440x720 with 1 Axes>"
      ]
     },
     "metadata": {
      "needs_background": "light"
     },
     "output_type": "display_data"
    }
   ],
   "source": [
    "# Plantbasedtreaty    \n",
    "#x = [1, 2, 3, 4, 5, 6, 7, 8, 9, 10, 11, 12, 13, 14, 15, 16, 17, 18, 19]\n",
    "x = [datetime.datetime(2021,10,28),datetime.datetime(2021,10,29),datetime.datetime(2021,10,30),\n",
    "     datetime.datetime(2021,10,31),datetime.datetime(2021,11,1),datetime.datetime(2021,11,2),\n",
    "     datetime.datetime(2021,11,3),datetime.datetime(2021,11,4),datetime.datetime(2021,11,5),\n",
    "     datetime.datetime(2021,11,6),datetime.datetime(2021,11,7),datetime.datetime(2021,11,8),\n",
    "     datetime.datetime(2021,11,9),datetime.datetime(2021,11,10),datetime.datetime(2021,11,11),\n",
    "     datetime.datetime(2021,11,12),datetime.datetime(2021,11,13),datetime.datetime(2021,11,14),\n",
    "     datetime.datetime(2021,11,15)]\n",
    "\n",
    "y = anothergoddamnlist\n",
    "plt.figure(figsize=(20,10))\n",
    "plt.grid()\n",
    "\n",
    "xcoords = [datetime.datetime(2021,11,7), datetime.datetime(2021,11,10)]\n",
    "for xc in xcoords:\n",
    "    plt.axvline(x=xc, color='r', linestyle='dashed')\n",
    "\n",
    "confcoords = [datetime.datetime(2021,10,31), datetime.datetime(2021,11,12)]\n",
    "for xc in confcoords:\n",
    "    plt.axvline(x=xc, color='black', linestyle='dashed')    \n",
    "    \n",
    "    \n",
    "#plt.xlim(\n",
    "#    xmin=datetime.datetime(2021, 10, 28), # the one that doesn't change\n",
    "#    xmax=datetime.datetime(2021, 11, 15) # the latest datetime in your dataset\n",
    "plt.plot(x, y)\n",
    "#sample_dates = np.array([datetime.datetime(11,7), datetime.datetime(11,10)])\n",
    "#plt.vlines(x=sample_dates, ymin=0, ymax=12092, linestyles=\"dashed\", color = 'r')\n",
    "#fig, ax = plt.subplots()\n",
    "#ax.set_xlim([datetime.date(2021, 10, 28), datetime.date(2021, 11, 15)])\n",
    "\n",
    "plt.annotate(\"Start of COP\", (datetime.datetime(2021,10,31, hour=3), 11500))\n",
    "plt.annotate(\"End of COP\", (datetime.datetime(2021,11,12, hour=3), 11500))\n",
    "\n",
    "plt.annotate(\"Rest day\", (datetime.datetime(2021,11,7, hour=3), 11500))\n",
    "plt.annotate(\"Transportation day\", (datetime.datetime(2021,11,10, hour=3), 12150))\n",
    "\n",
    "plt.xlabel(\"Date\")\n",
    "plt.ylabel(\"Daily sentiment score\")\n",
    "plt.title('#COP26 Overall Twitter sentiment by day')\n",
    "plt.show()\n",
    "# plt.xticks([1, 2, 3, 4, 5, 6, 7, 8, 9, 10,\n",
    "#             11, 12, 13, 14, 15, 16, 17, 18, 19], [\"10/28\", \"10/29\", \"10/30\",\n",
    "#                                                   \"10/31\", \"11/01\", \"11/02\",\n",
    "#                                                  \"11/03\",\"11/04\",\"11/05\",\n",
    "#                                                  \"11/06\",\"11/07\",\"11/08\",\n",
    "#                                                  \"11/09\",\"11/10\",\"11/11\",\n",
    "#                                                  \"11/12\",\"11/13\",\"11/14\",\"11/15\",])\n"
   ]
  },
  {
   "cell_type": "markdown",
   "id": "15ca353a",
   "metadata": {},
   "source": [
    "Issues:\n",
    "Forgot to pull tweets for the three days after the conference. Would have been nice to see the aftermath in the same way that we could see the three days before the conference. \n",
    "\n",
    "\n",
    "Interesting! Sentiment appears high in the days leading up to the conference, ping-pongs around a bit during, craters into a low during the four days leading up to the final day on 11/15, and then rebounds on the final day — signalling some optimism as things come to a close?\n",
    "\n",
    "Two spikes during the conference:\n",
    "11/7 - on the rest day. lol\n",
    "11/10 - Transport: Driving the global transition to zero emission transport. Can't explain that intuitively."
   ]
  },
  {
   "cell_type": "markdown",
   "id": "1c9b8b38",
   "metadata": {},
   "source": [
    "#### Schedule"
   ]
  },
  {
   "cell_type": "markdown",
   "id": "0aafcea7",
   "metadata": {},
   "source": [
    "\n",
    "Sunday 31 October - Procedural opening of negotiations\n",
    "\n",
    "Monday and Tuesday 1-2 November - World leaders summit: A two-day event welcoming heads of state and inviting them to put forward their ambitions and proposals towards securing global net zero carbon emissions, keeping the 1.5C temperature increase target within reach, protecting ecosystems and mobilising finance\n",
    "\n",
    "Wednesday 3 November - Finance: Mobilising public and private finance flows at scale for mitigation and adaptation\n",
    "\n",
    "Thursday 4 November - Energy: Accelerating the global transition to clean energy\n",
    "\n",
    "Friday 5 November - Youth and public empowerment: Elevating the voice of young people and demonstrating the critical role of public empowerment and education in climate action\n",
    "\n",
    "Saturday 6 November - Nature: Ensuring the importance of nature and sustainable land use are part of global action on climate change and a clean, green recovery\n",
    "\n",
    "Sunday 7 November - Rest day\n",
    "\n",
    "Monday 8 November - Adaptation, loss and damage: Delivering the practical solutions solutions needed to adapt to climate impact and address loss and damage\n",
    "\n",
    "Tuesday 9 November - Gender: Progressing gender equality and the full and meaningful participation of women and girls in climate action\n",
    "Science and innovation: Demonstrating that research and technology can deliver climate solutions to meet, and accelerate, increased ambition\n",
    "\n",
    "Wednesday 10 November - Transport: Driving the global transition to zero emission transport\n",
    "\n",
    "Thursday 11 November - Cities, Regions and Built Environment: Advancing action in the places we live, from communities, through to cities and regions\n",
    "Friday 12 November - Closure of negotiations\n"
   ]
  },
  {
   "cell_type": "markdown",
   "id": "9a655d6b",
   "metadata": {},
   "source": [
    "Now, break down tweets by LDA topic modeling\n",
    "\n",
    "Categorize tweets by topic\n",
    "\n",
    "Plot daily sentiment by those 6 or so most interesting topics"
   ]
  },
  {
   "cell_type": "code",
   "execution_count": 156,
   "id": "c66d29ef",
   "metadata": {},
   "outputs": [
    {
     "name": "stderr",
     "output_type": "stream",
     "text": [
      "/opt/anaconda3/lib/python3.8/site-packages/ipykernel/ipkernel.py:287: DeprecationWarning: `should_run_async` will not call `transform_cell` automatically in the future. Please pass the result to `transformed_cell` argument and any exception that happen during thetransform in `preprocessing_exc_tuple` in IPython 7.17 and above.\n",
      "  and should_run_async(code)\n"
     ]
    }
   ],
   "source": [
    "for_modeling_unclean = db.full_text.dropna()\n",
    "for_modeling = []\n",
    "\n",
    "for tweet in for_modeling_unclean :\n",
    "    words = [w for w in tweet.split()]# if w not in cop_sw]\n",
    "    words = \" \".join(words)    \n",
    "    for_modeling.append(words)"
   ]
  },
  {
   "cell_type": "code",
   "execution_count": 157,
   "id": "bf089965",
   "metadata": {},
   "outputs": [
    {
     "name": "stderr",
     "output_type": "stream",
     "text": [
      "/opt/anaconda3/lib/python3.8/site-packages/ipykernel/ipkernel.py:287: DeprecationWarning: `should_run_async` will not call `transform_cell` automatically in the future. Please pass the result to `transformed_cell` argument and any exception that happen during thetransform in `preprocessing_exc_tuple` in IPython 7.17 and above.\n",
      "  and should_run_async(code)\n"
     ]
    }
   ],
   "source": [
    "random.seed(1234)\n",
    "for_modeling = sample(for_modeling, 1000)  \n",
    "# take a sample of n to test modeller / just for speed if results are close to full corpus"
   ]
  },
  {
   "cell_type": "code",
   "execution_count": 158,
   "id": "f7343e5a",
   "metadata": {},
   "outputs": [
    {
     "name": "stderr",
     "output_type": "stream",
     "text": [
      "/opt/anaconda3/lib/python3.8/site-packages/ipykernel/ipkernel.py:287: DeprecationWarning: `should_run_async` will not call `transform_cell` automatically in the future. Please pass the result to `transformed_cell` argument and any exception that happen during thetransform in `preprocessing_exc_tuple` in IPython 7.17 and above.\n",
      "  and should_run_async(code)\n"
     ]
    }
   ],
   "source": [
    "# Updates spaCy's default stop words list with my additional words. \n",
    "stop_list = ['`',\"Mr.\",\"Mrs.\",\"Ms.\"]\n",
    "nlp.Defaults.stop_words.update(stop_list)\n",
    "\n",
    "# Iterates over the words in the stop words list and resets the \"is_stop\" flag.\n",
    "for word in STOP_WORDS:\n",
    "    lexeme = nlp.vocab[word]\n",
    "    lexeme.is_stop = True"
   ]
  },
  {
   "cell_type": "code",
   "execution_count": 159,
   "id": "689a304f",
   "metadata": {},
   "outputs": [
    {
     "name": "stderr",
     "output_type": "stream",
     "text": [
      "/opt/anaconda3/lib/python3.8/site-packages/ipykernel/ipkernel.py:287: DeprecationWarning: `should_run_async` will not call `transform_cell` automatically in the future. Please pass the result to `transformed_cell` argument and any exception that happen during thetransform in `preprocessing_exc_tuple` in IPython 7.17 and above.\n",
      "  and should_run_async(code)\n"
     ]
    },
    {
     "name": "stdout",
     "output_type": "stream",
     "text": [
      "Total time taken to run is 0.3 minutes.\n"
     ]
    }
   ],
   "source": [
    "program_start = time.time()\n",
    "\n",
    "doc_list = []\n",
    "allowed_postags=['NOUN','ADJ','VERB','ADV']\n",
    "\n",
    "# Iterates through each article in the corpus.\n",
    "for doc in for_modeling :\n",
    "    # Passes that article through the pipeline and adds to a new list.\n",
    "    pr = nlp(doc)\n",
    "    doc_list.append([token.lemma_ for token in pr if token.pos_ in allowed_postags])\n",
    "    \n",
    "program_end = time.time()\n",
    "print('Total time taken to run is {} minutes.'.format(round(program_end - program_start)/60, 2))"
   ]
  },
  {
   "cell_type": "code",
   "execution_count": 160,
   "id": "02489329",
   "metadata": {},
   "outputs": [
    {
     "name": "stderr",
     "output_type": "stream",
     "text": [
      "/opt/anaconda3/lib/python3.8/site-packages/ipykernel/ipkernel.py:287: DeprecationWarning: `should_run_async` will not call `transform_cell` automatically in the future. Please pass the result to `transformed_cell` argument and any exception that happen during thetransform in `preprocessing_exc_tuple` in IPython 7.17 and above.\n",
      "  and should_run_async(code)\n"
     ]
    }
   ],
   "source": [
    "id2word = Dictionary(doc_list)  \n",
    "id2word.filter_extremes(no_below=10, no_above=0.4)  #getting rid of fewer than 10 instances. \n",
    "                                # And no more than words that appear in a certain fraction\n",
    "                                # of the total corpus size (in this case .4)\n",
    "id2word.compactify()  # assign new word ids to all words. \n",
    "corpus = [id2word.doc2bow(word) for word in doc_list]\n"
   ]
  },
  {
   "cell_type": "code",
   "execution_count": 165,
   "id": "861be399",
   "metadata": {},
   "outputs": [
    {
     "name": "stderr",
     "output_type": "stream",
     "text": [
      "/opt/anaconda3/lib/python3.8/site-packages/ipykernel/ipkernel.py:287: DeprecationWarning: `should_run_async` will not call `transform_cell` automatically in the future. Please pass the result to `transformed_cell` argument and any exception that happen during thetransform in `preprocessing_exc_tuple` in IPython 7.17 and above.\n",
      "  and should_run_async(code)\n"
     ]
    },
    {
     "name": "stdout",
     "output_type": "stream",
     "text": [
      "Total time taken to run is 0.13333333333333333 minutes.\n"
     ]
    }
   ],
   "source": [
    "num_topics = 3\n",
    "\n",
    "program_start = time.time()\n",
    "\n",
    "lda_model = LdaMulticore(corpus=corpus, \n",
    "                             id2word=id2word, \n",
    "                             num_topics=num_topics, \n",
    "                             random_state=1,\n",
    "                             chunksize=30,\n",
    "                             passes=10,\n",
    "                             alpha=0.31,  # sets our priors\n",
    "                             eta=0.91,\n",
    "                             eval_every=1,\n",
    "                             per_word_topics=True,\n",
    "                             workers=1)\n",
    "\n",
    "program_end = time.time()\n",
    "print('Total time taken to run is {} minutes.'.format(round(program_end - program_start)/60, 2))"
   ]
  },
  {
   "cell_type": "code",
   "execution_count": 166,
   "id": "1c3c20fc",
   "metadata": {},
   "outputs": [
    {
     "name": "stdout",
     "output_type": "stream",
     "text": [
      "[(0,\n",
      "  '0.035*\"make\" + 0.033*\"end\" + 0.031*\"fuel\" + 0.026*\"fossil\" + 0.020*\"keep\" + '\n",
      "  '0.019*\"tax\" + 0.019*\"coal\" + 0.018*\"watch\" + 0.018*\"new\" + '\n",
      "  '0.018*\"government\" + 0.017*\"want\" + 0.017*\"get\" + 0.016*\"go\" + '\n",
      "  '0.016*\"world\" + 0.015*\"carbon\" + 0.014*\"leader\" + 0.014*\"stop\" + '\n",
      "  '0.013*\"need\" + 0.012*\"phase\" + 0.011*\"ask\"'),\n",
      " (1,\n",
      "  '0.079*\"climate\" + 0.032*\"change\" + 0.030*\"need\" + 0.027*\"have\" + '\n",
      "  '0.025*\"country\" + 0.023*\"now\" + 0.021*\"do\" + 0.020*\"’\" + 0.020*\"more\" + '\n",
      "  '0.018*\"global\" + 0.016*\"action\" + 0.015*\"world\" + 0.014*\"time\" + '\n",
      "  '0.013*\"leader\" + 0.012*\"emission\" + 0.012*\"so\" + 0.012*\"say\" + 0.012*\"take\" '\n",
      "  '+ 0.011*\"help\" + 0.011*\"people\"'),\n",
      " (2,\n",
      "  '0.049*\"cop26glasgow\" + 0.038*\"see\" + 0.027*\"auspol\" + 0.027*\"unknown\" + '\n",
      "  '0.025*\"just\" + 0.024*\"hope\" + 0.022*\"work\" + 0.021*\"️\" + 0.020*\"week\" + '\n",
      "  '0.020*\"here\" + 0.019*\"thank\" + 0.018*\"sure\" + 0.017*\"yesscot\" + '\n",
      "  '0.017*\"many\" + 0.017*\"say\" + 0.017*\"ft\" + 0.016*\"✈\" + 0.016*\"meet\" + '\n",
      "  '0.016*\"🔊\" + 0.015*\"voice\"')]\n"
     ]
    },
    {
     "name": "stderr",
     "output_type": "stream",
     "text": [
      "/opt/anaconda3/lib/python3.8/site-packages/ipykernel/ipkernel.py:287: DeprecationWarning: `should_run_async` will not call `transform_cell` automatically in the future. Please pass the result to `transformed_cell` argument and any exception that happen during thetransform in `preprocessing_exc_tuple` in IPython 7.17 and above.\n",
      "  and should_run_async(code)\n"
     ]
    }
   ],
   "source": [
    "pprint(lda_model.print_topics(num_words=20))"
   ]
  },
  {
   "cell_type": "code",
   "execution_count": 167,
   "id": "deb6ae7f",
   "metadata": {},
   "outputs": [
    {
     "name": "stderr",
     "output_type": "stream",
     "text": [
      "/opt/anaconda3/lib/python3.8/site-packages/ipykernel/ipkernel.py:287: DeprecationWarning: `should_run_async` will not call `transform_cell` automatically in the future. Please pass the result to `transformed_cell` argument and any exception that happen during thetransform in `preprocessing_exc_tuple` in IPython 7.17 and above.\n",
      "  and should_run_async(code)\n"
     ]
    }
   ],
   "source": [
    "pyLDAvis.enable_notebook()"
   ]
  },
  {
   "cell_type": "code",
   "execution_count": 168,
   "id": "dfb15a96",
   "metadata": {},
   "outputs": [
    {
     "name": "stderr",
     "output_type": "stream",
     "text": [
      "/opt/anaconda3/lib/python3.8/site-packages/ipykernel/ipkernel.py:287: DeprecationWarning: `should_run_async` will not call `transform_cell` automatically in the future. Please pass the result to `transformed_cell` argument and any exception that happen during thetransform in `preprocessing_exc_tuple` in IPython 7.17 and above.\n",
      "  and should_run_async(code)\n"
     ]
    },
    {
     "data": {
      "text/html": [
       "\n",
       "<link rel=\"stylesheet\" type=\"text/css\" href=\"https://cdn.jsdelivr.net/gh/bmabey/pyLDAvis@3.3.1/pyLDAvis/js/ldavis.v1.0.0.css\">\n",
       "\n",
       "\n",
       "<div id=\"ldavis_el9464052975102089344594481\"></div>\n",
       "<script type=\"text/javascript\">\n",
       "\n",
       "var ldavis_el9464052975102089344594481_data = {\"mdsDat\": {\"x\": [-0.10480620537147325, -0.10400278909767938, 0.20880899446915266], \"y\": [0.1548205186673061, -0.15521815498009528, 0.0003976363127892183], \"topics\": [1, 2, 3], \"cluster\": [1, 1, 1], \"Freq\": [49.430041708217395, 29.384354183755867, 21.185604108026734]}, \"tinfo\": {\"Term\": [\"climate\", \"cop26glasgow\", \"see\", \"make\", \"end\", \"fuel\", \"unknown\", \"fossil\", \"change\", \"auspol\", \"hope\", \"work\", \"\\ufe0f\", \"week\", \"keep\", \"tax\", \"coal\", \"country\", \"thank\", \"sure\", \"government\", \"just\", \"yesscot\", \"watch\", \"many\", \"here\", \"ft\", \"\\u2708\", \"\\ud83d\\udd0a\", \"meet\", \"climate\", \"change\", \"country\", \"more\", \"emission\", \"global\", \"action\", \"%\", \"\\u2019\", \"great\", \"help\", \"reach\", \"life\", \"conference\", \"act\", \"have\", \"crisis\", \"read\", \"time\", \"today\", \"tackle\", \"long\", \"business\", \"mean\", \"plan\", \"fight\", \"reduce\", \"summit\", \"chance\", \"let\", \"year\", \"now\", \"need\", \"do\", \"so\", \"take\", \"talk\", \"start\", \"world\", \"leader\", \"say\", \"people\", \"here\", \"fuel\", \"fossil\", \"end\", \"coal\", \"government\", \"tax\", \"make\", \"phase\", \"watch\", \"keep\", \"gas\", \"health\", \"oil\", \"right\", \"kid\", \"video\", \"message\", \"strong\", \"pay\", \"temperature\", \"want\", \"president\", \"face\", \"enough\", \"water\", \"ask\", \"home\", \"commit\", \"damage\", \"stop\", \"sign\", \"go\", \"planet\", \"new\", \"even\", \"get\", \"carbon\", \"world\", \"leader\", \"call\", \"need\", \"just\", \"cop26glasgow\", \"unknown\", \"see\", \"\\ufe0f\", \"ft\", \"\\u2708\", \"yesscot\", \"\\ud83d\\udd0a\", \"hope\", \"thank\", \"week\", \"wituawaboot\", \"many\", \"sure\", \"work\", \"look\", \"auspol\", \"attend\", \"meet\", \"too\", \"think\", \"word\", \"lie\", \"young\", \"climatechange\", \"togetherforourplanet\", \"learn\", \"next\", \"initiative\", \"eye\", \"continue\", \"voice\", \"other\", \"just\", \"here\", \"thing\", \"say\", \"hear\", \"most\", \"people\"], \"Freq\": [239.0, 65.0, 52.0, 68.0, 61.0, 56.0, 36.0, 48.0, 97.0, 40.0, 33.0, 32.0, 28.0, 28.0, 39.0, 37.0, 35.0, 78.0, 26.0, 26.0, 33.0, 63.0, 24.0, 34.0, 24.0, 56.0, 23.0, 22.0, 21.0, 23.0, 236.36492194641306, 94.80219656236656, 75.40543252301417, 59.762082694524395, 37.11102372921695, 54.76926565513208, 48.19762921566163, 29.142978463848646, 60.11936535955401, 30.719266367295592, 33.98684324957998, 26.074152070393854, 27.310099294008843, 28.793732740557424, 20.954726595504546, 79.77280747547135, 28.40170360406787, 29.33697119518223, 41.35604954526569, 31.863939695781216, 14.56587177369184, 17.074799160301414, 12.87469060748748, 12.522878383463421, 14.429039340185483, 22.56213174515256, 12.511153409575384, 12.761023888451811, 11.941785093152328, 19.449338799863728, 30.128122699319306, 68.49034703948541, 90.72857043028368, 63.667633132133915, 35.774799555528716, 34.654189446680036, 28.229049373098945, 26.093351120065783, 44.604284561143416, 38.88260091592253, 34.85765568808365, 32.43093333394847, 30.215607750486285, 54.89789564558857, 46.35790181488068, 58.88284055707056, 33.849313685197835, 31.351102568137748, 34.69192790139241, 63.42073315248283, 21.147622857469372, 31.701084249287714, 36.07385929701639, 16.51790081411108, 20.14402951984782, 15.255734076011679, 17.1780846776869, 15.477118239734562, 13.058338771124859, 13.671826337466413, 20.257047177526033, 12.048386307075198, 12.034605980223917, 31.04373702221281, 11.539873435234524, 20.13564612699652, 17.323890124403867, 11.09659155006544, 20.30869094170908, 13.07083478749465, 13.735297743867187, 13.286667200788806, 24.154675623194617, 17.14681675315832, 28.84689522767608, 19.924146909014503, 31.54349777175092, 15.622880404439194, 29.692758924181568, 27.297905252584428, 28.470002123008623, 25.837117359866326, 17.812036312400377, 23.575171095309457, 20.24887020657973, 63.45825884846628, 35.21984951300724, 49.39011489793064, 26.744557799407765, 21.41407481005677, 20.499444297354373, 22.430344270996166, 19.99145719324424, 30.39954161844509, 24.148347830720635, 25.470559119387804, 15.678758335286034, 22.018392314531194, 23.74667931042418, 28.943547242014183, 17.03375827856194, 35.347998794821514, 14.931594924827928, 20.44687491077863, 15.052368889735632, 14.506139357213103, 13.985152731961373, 10.577908748340917, 12.724029951009554, 11.767588772764858, 9.681817345906607, 10.311559590119092, 11.023897582292225, 6.354639658598202, 6.230361668025936, 15.472411490833185, 19.164934412699953, 16.14279599196168, 31.802546533293373, 25.350792134282315, 13.802278478678886, 21.762679455483667, 17.131180873944125, 14.38597870181545, 15.686070040834423], \"Total\": [239.0, 65.0, 52.0, 68.0, 61.0, 56.0, 36.0, 48.0, 97.0, 40.0, 33.0, 32.0, 28.0, 28.0, 39.0, 37.0, 35.0, 78.0, 26.0, 26.0, 33.0, 63.0, 24.0, 34.0, 24.0, 56.0, 23.0, 22.0, 21.0, 23.0, 239.3863153407846, 97.3314084655078, 78.47856027937011, 62.89734905160071, 39.10088707298071, 57.76875533040405, 51.069227173827414, 31.266000971623797, 64.68894625373959, 33.14335328174119, 36.67213851466807, 28.255901201371035, 29.676966322569072, 31.29374565844939, 23.169905575206517, 88.21447770233154, 31.573618165547988, 32.9310798691055, 46.86568492611563, 36.304706304358646, 16.601174356076903, 19.48890170308541, 14.760992587894199, 14.582811879970764, 16.87102859761797, 26.425415431289803, 14.657195234989413, 15.055152997113444, 14.098517023389702, 23.049725647561363, 35.86028875248409, 85.34129563662536, 115.76876691456489, 81.72725036899126, 47.779150310243125, 47.07885010641096, 37.027136721055946, 34.208123529257854, 74.26568496538093, 66.16200410447728, 63.36159887478141, 59.32252576174618, 56.676627199421716, 56.757666382425846, 48.10811951639401, 61.14499179121389, 35.91811822385603, 33.33203861284122, 37.248918456338096, 68.30792446598048, 22.94269019934206, 34.62940022006125, 39.6336423558171, 18.318649306923277, 22.374651104561572, 17.02502147410731, 19.19668479228389, 17.445558400501245, 14.815175802580168, 15.55648518367525, 23.207619364390972, 13.834426703090289, 13.856621009714429, 35.77060736379226, 13.327230806048883, 23.506758210557305, 20.22939051814492, 13.022797762527054, 23.90087768542022, 15.415119623312927, 16.230154205652664, 15.755141389621127, 28.839763065987253, 21.218435980979734, 41.90915451873933, 26.8508436539248, 52.58129785997369, 19.867908922583126, 53.75362226864116, 53.784262043748384, 74.26568496538093, 66.16200410447728, 32.81872970368295, 115.76876691456489, 63.09208214323282, 65.65880492035275, 36.95544775526583, 52.12269464114959, 28.541460795976526, 23.150828758435793, 22.243084417051534, 24.362848624060568, 21.740669788844695, 33.328566264412316, 26.502433776987342, 28.1129864383125, 17.41393981820041, 24.54266753270307, 26.601580157708796, 32.53398825519314, 19.284825957746854, 40.17714930588691, 17.030647722129963, 23.444598247092962, 17.537107315928836, 17.001901886209037, 16.46858819621735, 12.465287338034369, 15.25544866006569, 14.29488977692045, 11.833007583715052, 12.883036385397958, 14.030589190199505, 8.275740169335194, 8.223872631257798, 20.702394646902757, 27.009929637984108, 22.4801509063122, 63.09208214323282, 56.676627199421716, 20.60369117827105, 63.36159887478141, 35.47709212688832, 26.870043737312365, 59.32252576174618], \"Category\": [\"Default\", \"Default\", \"Default\", \"Default\", \"Default\", \"Default\", \"Default\", \"Default\", \"Default\", \"Default\", \"Default\", \"Default\", \"Default\", \"Default\", \"Default\", \"Default\", \"Default\", \"Default\", \"Default\", \"Default\", \"Default\", \"Default\", \"Default\", \"Default\", \"Default\", \"Default\", \"Default\", \"Default\", \"Default\", \"Default\", \"Topic1\", \"Topic1\", \"Topic1\", \"Topic1\", \"Topic1\", \"Topic1\", \"Topic1\", \"Topic1\", \"Topic1\", \"Topic1\", \"Topic1\", \"Topic1\", \"Topic1\", \"Topic1\", \"Topic1\", \"Topic1\", \"Topic1\", \"Topic1\", \"Topic1\", \"Topic1\", \"Topic1\", \"Topic1\", \"Topic1\", \"Topic1\", \"Topic1\", \"Topic1\", \"Topic1\", \"Topic1\", \"Topic1\", \"Topic1\", \"Topic1\", \"Topic1\", \"Topic1\", \"Topic1\", \"Topic1\", \"Topic1\", \"Topic1\", \"Topic1\", \"Topic1\", \"Topic1\", \"Topic1\", \"Topic1\", \"Topic1\", \"Topic2\", \"Topic2\", \"Topic2\", \"Topic2\", \"Topic2\", \"Topic2\", \"Topic2\", \"Topic2\", \"Topic2\", \"Topic2\", \"Topic2\", \"Topic2\", \"Topic2\", \"Topic2\", \"Topic2\", \"Topic2\", \"Topic2\", \"Topic2\", \"Topic2\", \"Topic2\", \"Topic2\", \"Topic2\", \"Topic2\", \"Topic2\", \"Topic2\", \"Topic2\", \"Topic2\", \"Topic2\", \"Topic2\", \"Topic2\", \"Topic2\", \"Topic2\", \"Topic2\", \"Topic2\", \"Topic2\", \"Topic2\", \"Topic2\", \"Topic2\", \"Topic2\", \"Topic2\", \"Topic2\", \"Topic2\", \"Topic3\", \"Topic3\", \"Topic3\", \"Topic3\", \"Topic3\", \"Topic3\", \"Topic3\", \"Topic3\", \"Topic3\", \"Topic3\", \"Topic3\", \"Topic3\", \"Topic3\", \"Topic3\", \"Topic3\", \"Topic3\", \"Topic3\", \"Topic3\", \"Topic3\", \"Topic3\", \"Topic3\", \"Topic3\", \"Topic3\", \"Topic3\", \"Topic3\", \"Topic3\", \"Topic3\", \"Topic3\", \"Topic3\", \"Topic3\", \"Topic3\", \"Topic3\", \"Topic3\", \"Topic3\", \"Topic3\", \"Topic3\", \"Topic3\", \"Topic3\", \"Topic3\", \"Topic3\"], \"logprob\": [30.0, 29.0, 28.0, 27.0, 26.0, 25.0, 24.0, 23.0, 22.0, 21.0, 20.0, 19.0, 18.0, 17.0, 16.0, 15.0, 14.0, 13.0, 12.0, 11.0, 10.0, 9.0, 8.0, 7.0, 6.0, 5.0, 4.0, 3.0, 2.0, 1.0, -2.5433, -3.4568, -3.6858, -3.9183, -4.3947, -4.0055, -4.1333, -4.6364, -3.9123, -4.5838, -4.4827, -4.7477, -4.7014, -4.6485, -4.9663, -3.6295, -4.6622, -4.6298, -4.2864, -4.5472, -5.33, -5.171, -5.4534, -5.4811, -5.3394, -4.8924, -5.482, -5.4622, -5.5286, -5.0408, -4.6032, -3.7819, -3.5008, -3.855, -4.4314, -4.4632, -4.6683, -4.747, -4.2108, -4.3481, -4.4574, -4.5295, -4.6003, -3.4831, -3.6522, -3.413, -3.9666, -4.0433, -3.942, -3.3388, -4.437, -4.0322, -3.903, -4.6841, -4.4856, -4.7636, -4.6449, -4.7492, -4.9191, -4.8732, -4.48, -4.9996, -5.0008, -4.0531, -5.0427, -4.4861, -4.6365, -5.0819, -4.4775, -4.9182, -4.8686, -4.9018, -4.3041, -4.6467, -4.1265, -4.4966, -4.0372, -4.7398, -4.0976, -4.1817, -4.1397, -4.2367, -4.6087, -4.3284, -4.4804, -3.011, -3.5998, -3.2617, -3.8751, -4.0974, -4.141, -4.051, -4.1661, -3.747, -3.9772, -3.9239, -4.4091, -4.0695, -3.994, -3.7961, -4.3262, -3.5962, -4.4579, -4.1436, -4.4499, -4.4868, -4.5234, -4.8026, -4.6179, -4.6961, -4.8912, -4.8281, -4.7613, -5.3122, -5.332, -4.4223, -4.2083, -4.3799, -3.7019, -3.9286, -4.5366, -4.0812, -4.3205, -4.4952, -4.4086], \"loglift\": [30.0, 29.0, 28.0, 27.0, 26.0, 25.0, 24.0, 23.0, 22.0, 21.0, 20.0, 19.0, 18.0, 17.0, 16.0, 15.0, 14.0, 13.0, 12.0, 11.0, 10.0, 9.0, 8.0, 7.0, 6.0, 5.0, 4.0, 3.0, 2.0, 1.0, 0.6919, 0.6783, 0.6647, 0.6535, 0.6524, 0.6513, 0.6467, 0.6343, 0.6314, 0.6287, 0.6286, 0.6243, 0.6215, 0.6214, 0.6041, 0.604, 0.5987, 0.589, 0.5795, 0.5741, 0.5738, 0.5724, 0.5679, 0.5523, 0.5483, 0.5466, 0.5463, 0.5393, 0.5386, 0.5348, 0.5304, 0.4846, 0.4609, 0.4549, 0.4153, 0.3982, 0.4333, 0.4338, 0.1948, 0.1731, 0.107, 0.1007, 0.0756, 1.1914, 1.1876, 1.187, 1.1654, 1.1634, 1.1536, 1.1505, 1.1432, 1.1364, 1.1306, 1.1212, 1.1197, 1.115, 1.1136, 1.105, 1.0985, 1.0956, 1.0887, 1.0865, 1.0837, 1.083, 1.0807, 1.0699, 1.0697, 1.0646, 1.0618, 1.0597, 1.0578, 1.0543, 1.0474, 1.0116, 0.8512, 0.9263, 0.7137, 0.9843, 0.6312, 0.5465, 0.2659, 0.2844, 0.6136, -0.3667, 0.0882, 1.5178, 1.5037, 1.498, 1.4868, 1.4739, 1.4702, 1.4692, 1.468, 1.4599, 1.4588, 1.4531, 1.4469, 1.4433, 1.4383, 1.4349, 1.4277, 1.4238, 1.4203, 1.415, 1.3991, 1.3931, 1.3884, 1.3877, 1.3704, 1.3573, 1.3512, 1.3292, 1.3107, 1.2877, 1.2742, 1.2607, 1.2087, 1.2207, 0.8668, 0.7473, 1.1512, 0.4832, 0.8239, 0.9271, 0.2216]}, \"token.table\": {\"Topic\": [1, 2, 3, 1, 2, 3, 1, 2, 3, 1, 2, 3, 1, 2, 3, 1, 2, 3, 1, 2, 3, 1, 2, 3, 1, 2, 3, 1, 2, 3, 1, 2, 3, 1, 2, 3, 1, 2, 3, 1, 2, 3, 1, 2, 3, 1, 2, 3, 1, 2, 3, 1, 2, 3, 1, 2, 3, 1, 2, 3, 1, 2, 3, 1, 2, 3, 1, 2, 3, 1, 2, 3, 1, 2, 3, 1, 2, 3, 1, 2, 3, 1, 2, 3, 1, 2, 3, 1, 2, 3, 1, 2, 3, 1, 2, 3, 1, 2, 3, 1, 2, 3, 1, 2, 3, 1, 2, 3, 1, 2, 3, 1, 2, 3, 1, 2, 3, 1, 2, 3, 1, 2, 3, 1, 2, 3, 1, 2, 3, 1, 2, 3, 1, 2, 3, 1, 2, 3, 1, 2, 3, 1, 2, 3, 1, 2, 3, 1, 2, 3, 1, 2, 3, 1, 2, 3, 1, 2, 3, 1, 2, 3, 1, 2, 3, 1, 2, 3, 1, 2, 3, 1, 2, 3, 1, 2, 3, 1, 2, 3, 1, 2, 3, 1, 2, 3, 1, 2, 3, 1, 2, 3, 1, 2, 3, 1, 2, 3, 1, 2, 3, 1, 2, 3, 1, 2, 3, 1, 2, 3, 1, 2, 3, 1, 2, 3, 1, 2, 3, 1, 2, 3, 1, 2, 3, 1, 2, 3, 1, 2, 3, 1, 2, 3, 1, 2, 3, 1, 2, 3, 1, 2, 3, 1, 2, 3, 1, 2, 3, 1, 2, 3, 1, 2, 3, 1, 2, 3, 1, 2, 3, 1, 2, 3, 1, 2, 3, 1, 2, 3, 1, 2, 3, 1, 2, 3, 1, 2, 3, 1, 2, 3, 1, 2, 3, 1, 2, 3, 1, 2, 3, 1, 2, 3, 1, 2, 3, 1, 2, 3, 1, 2, 3, 1, 2, 3, 1, 2, 3, 1, 2, 3, 1, 2, 3, 1, 2, 3, 1, 2, 3, 1, 2, 3, 1, 2, 3, 1, 2, 3, 1, 2, 3, 1, 2, 3, 1, 2, 3, 1, 2, 3, 1, 2, 3, 1, 2, 3, 1, 2, 3, 1, 2, 3], \"Freq\": [0.9275250783213255, 0.031983623390390535, 0.031983623390390535, 0.906348104520181, 0.043159433548580046, 0.043159433548580046, 0.9399006536092567, 0.019581263616859513, 0.019581263616859513, 0.0418394677033141, 0.8367893540662821, 0.1255184031099423, 0.05871767276946138, 0.05871767276946138, 0.8807650915419207, 0.0497795397272487, 0.07466930959087306, 0.8711419452268523, 0.8806995818602046, 0.0677461216815542, 0.0677461216815542, 0.27423364893340196, 0.5484672978668039, 0.18282243262226797, 0.4648199872978619, 0.5020055862816909, 0.018592799491914475, 0.851153350390809, 0.07092944586590075, 0.07092944586590075, 0.9760466995981671, 0.010274175785243865, 0.010274175785243865, 0.9858541816145008, 0.008354696454360176, 0.004177348227180088, 0.13991013790320111, 0.06995506895160056, 0.8394608274192067, 0.027841102191590368, 0.9465974745140725, 0.027841102191590368, 0.06161370910768786, 0.8625919275076301, 0.06161370910768786, 0.9267027449035947, 0.031955267065641196, 0.031955267065641196, 0.09660718163824666, 0.19321436327649333, 0.7245538622868499, 0.015230249792286769, 0.015230249792286769, 0.9595057369140665, 0.9556750242743108, 0.02548466731398162, 0.01274233365699081, 0.8868163240965714, 0.06334402314975511, 0.031672011574877555, 0.12694268813845885, 0.8251274728999826, 0.06347134406922943, 0.7830925390374165, 0.19577313475935412, 0.024471641844919265, 0.9462700917997214, 0.025574867345938418, 0.025574867345938418, 0.016354569208457938, 0.9649195832990183, 0.016354569208457938, 0.09886605324100513, 0.8403614525485436, 0.049433026620502564, 0.10066484640095531, 0.8053187712076425, 0.15099726960143298, 0.12159721396938211, 0.12159721396938211, 0.7295832838162927, 0.0850819148299983, 0.8508191482999831, 0.04254095741499915, 0.870374206975235, 0.11352707047503065, 0.03784235682501022, 0.02078651192464976, 0.956179548533889, 0.02078651192464976, 0.04319499791710981, 0.04319499791710981, 0.907094956259306, 0.017618765247713476, 0.9690320886242413, 0.017618765247713476, 0.05458917757774117, 0.9280160188215999, 0.05458917757774117, 0.4278781415893113, 0.5581019238121452, 0.01860339746040484, 0.9520717502987842, 0.03462079091995579, 0.017310395459977895, 0.2624724866516083, 0.6919729193542402, 0.04772227030029243, 0.030001165293704793, 0.9300361241048486, 0.030001165293704793, 0.9353308259571317, 0.03017196212764941, 0.03017196212764941, 0.9068806173738256, 0.022672015434345643, 0.07935205402020974, 0.044693434339010886, 0.8938686867802177, 0.044693434339010886, 0.422808046001927, 0.0845616092003854, 0.47918245213551725, 0.9271343689542602, 0.027268657910419415, 0.027268657910419415, 0.5293187241795874, 0.01764395747265291, 0.4410989368163228, 0.06487137462674362, 0.8433278701476672, 0.06487137462674362, 0.060008581951380445, 0.030004290975690222, 0.9001287292707066, 0.12083511317880488, 0.12083511317880488, 0.7250106790728292, 0.17434834334723007, 0.3169969879040547, 0.5071951806464875, 0.05046218013587279, 0.9083192424457102, 0.025231090067936394, 0.05732118038544803, 0.8598177057817205, 0.05732118038544803, 0.5894621925057559, 0.3929747950038373, 0.015114415192455282, 0.1552429054898008, 0.0776214527449004, 0.776214527449004, 0.8243048221274677, 0.0867689286449966, 0.0867689286449966, 0.08022277969868992, 0.08022277969868992, 0.8824505766855891, 0.9097964969373146, 0.033696166553233875, 0.033696166553233875, 0.8722913306760957, 0.051311254745652686, 0.051311254745652686, 0.05185424033335871, 0.05185424033335871, 0.8815220856670981, 0.043918769651595774, 0.9222941626835113, 0.014639589883865258, 0.04074536717198737, 0.04074536717198737, 0.8963980777837222, 0.8914604472032771, 0.06857388055409824, 0.06857388055409824, 0.04265374861452344, 0.08530749722904687, 0.8530749722904687, 0.06428187268480065, 0.899946217587209, 0.06428187268480065, 0.9539352755674371, 0.03179784251891457, 0.015898921259457285, 0.29772932557199433, 0.18608082848249644, 0.52102631975099, 0.7860496611072677, 0.20730980073158708, 0.008637908363816128, 0.17116351946974373, 0.6085814025590888, 0.2282180259596583, 0.14254568877243004, 0.07127284438621502, 0.7840012882483652, 0.7968006519321801, 0.1640471930448606, 0.023435313292122943, 0.05873707716145093, 0.8810561574217639, 0.05873707716145093, 0.1779347485997899, 0.08896737429989494, 0.7117389943991596, 0.07228344343149566, 0.867401321177948, 0.07228344343149566, 0.5394240988409673, 0.1854270339765825, 0.26971204942048366, 0.04358686759535626, 0.9153242195024813, 0.04358686759535626, 0.8298249225881028, 0.059273208756293064, 0.059273208756293064, 0.18621388826526303, 0.7448555530610521, 0.07448555530610522, 0.07503434243414814, 0.9004121092097777, 0.07503434243414814, 0.9201617677916578, 0.03539083722275607, 0.03539083722275607, 0.880627058549833, 0.03036645029482183, 0.09109935088446548, 0.8869364016497929, 0.06822587704998406, 0.06822587704998406, 0.0520923279628965, 0.8855695753692404, 0.0520923279628965, 0.5523850505914296, 0.11047701011828594, 0.34721346037175577, 0.019185500805066293, 0.019185500805066293, 0.9400895394482482, 0.09425765413590359, 0.8011900601551805, 0.09425765413590359, 0.7534667269351197, 0.06278889391125998, 0.18836668173377993, 0.7600533825762897, 0.08769846722034112, 0.1461641120339019, 0.13869739466471134, 0.8321843679882681, 0.034674348666177836, 0.08617859370223625, 0.8617859370223626, 0.043089296851118127, 0.863491722899961, 0.06642244022307393, 0.06642244022307393, 0.037591751845997494, 0.07518350369199499, 0.9022020443039399, 0.9035505367431558, 0.06023670244954372, 0.06023670244954372, 0.7434336208486511, 0.2336505665524332, 0.021240960595675745, 0.756202139283361, 0.18905053482084025, 0.05401443852024007, 0.05369283412468288, 0.9396245971819503, 0.02684641706234144, 0.07216766622244575, 0.8660119946693489, 0.07216766622244575, 0.037732383690298, 0.037732383690298, 0.905577208567152, 0.19413997061936444, 0.14560497796452335, 0.6794898971677756, 0.0588169492267887, 0.0588169492267887, 0.8822542384018306, 0.874840516353, 0.08535029427834145, 0.021337573569585364, 0.8814284223023219, 0.08263391459084267, 0.02754463819694756, 0.0845093686389782, 0.0845093686389782, 0.845093686389782, 0.0570219467774886, 0.0570219467774886, 0.855329201662329, 0.027059609901695987, 0.027059609901695987, 0.9470863465593595, 0.06749835528957024, 0.877478618764413, 0.06749835528957024, 0.18511710570946813, 0.11107026342568087, 0.7034450016959789, 0.02795591335170396, 0.8666333139028227, 0.11182365340681584, 0.028877196649241627, 0.924070292775732, 0.05775439329848325, 0.07678841507294908, 0.8446725658024399, 0.07678841507294908, 0.07114149912135949, 0.035570749560679744, 0.8892687390169937, 0.05742525875476132, 0.05742525875476132, 0.9188041400761812, 0.060721659202680696, 0.060721659202680696, 0.8501032288375298, 0.06147417231211289, 0.030737086156056446, 0.8913754985256369, 0.6059326056304042, 0.3770247323922515, 0.013465169014008982, 0.8365799898340713, 0.13942999830567854, 0.02788599966113571, 0.04104610324641624, 0.04104610324641624, 0.9030142714211573, 0.06555035006067753, 0.06555035006067753, 0.8521545507888079, 0.9275154949139626, 0.04637577474569813, 0.030917183163798753, 0.04495779367871304, 0.04495779367871304, 0.8991558735742609, 0.03503674907000449, 0.03503674907000449, 0.945992224890121, 0.04599674295743674, 0.04599674295743674, 0.9199348591487349], \"Term\": [\"%\", \"%\", \"%\", \"act\", \"act\", \"act\", \"action\", \"action\", \"action\", \"ask\", \"ask\", \"ask\", \"attend\", \"attend\", \"attend\", \"auspol\", \"auspol\", \"auspol\", \"business\", \"business\", \"business\", \"call\", \"call\", \"call\", \"carbon\", \"carbon\", \"carbon\", \"chance\", \"chance\", \"chance\", \"change\", \"change\", \"change\", \"climate\", \"climate\", \"climate\", \"climatechange\", \"climatechange\", \"climatechange\", \"coal\", \"coal\", \"coal\", \"commit\", \"commit\", \"commit\", \"conference\", \"conference\", \"conference\", \"continue\", \"continue\", \"continue\", \"cop26glasgow\", \"cop26glasgow\", \"cop26glasgow\", \"country\", \"country\", \"country\", \"crisis\", \"crisis\", \"crisis\", \"damage\", \"damage\", \"damage\", \"do\", \"do\", \"do\", \"emission\", \"emission\", \"emission\", \"end\", \"end\", \"end\", \"enough\", \"enough\", \"enough\", \"even\", \"even\", \"even\", \"eye\", \"eye\", \"eye\", \"face\", \"face\", \"face\", \"fight\", \"fight\", \"fight\", \"fossil\", \"fossil\", \"fossil\", \"ft\", \"ft\", \"ft\", \"fuel\", \"fuel\", \"fuel\", \"gas\", \"gas\", \"gas\", \"get\", \"get\", \"get\", \"global\", \"global\", \"global\", \"go\", \"go\", \"go\", \"government\", \"government\", \"government\", \"great\", \"great\", \"great\", \"have\", \"have\", \"have\", \"health\", \"health\", \"health\", \"hear\", \"hear\", \"hear\", \"help\", \"help\", \"help\", \"here\", \"here\", \"here\", \"home\", \"home\", \"home\", \"hope\", \"hope\", \"hope\", \"initiative\", \"initiative\", \"initiative\", \"just\", \"just\", \"just\", \"keep\", \"keep\", \"keep\", \"kid\", \"kid\", \"kid\", \"leader\", \"leader\", \"leader\", \"learn\", \"learn\", \"learn\", \"let\", \"let\", \"let\", \"lie\", \"lie\", \"lie\", \"life\", \"life\", \"life\", \"long\", \"long\", \"long\", \"look\", \"look\", \"look\", \"make\", \"make\", \"make\", \"many\", \"many\", \"many\", \"mean\", \"mean\", \"mean\", \"meet\", \"meet\", \"meet\", \"message\", \"message\", \"message\", \"more\", \"more\", \"more\", \"most\", \"most\", \"most\", \"need\", \"need\", \"need\", \"new\", \"new\", \"new\", \"next\", \"next\", \"next\", \"now\", \"now\", \"now\", \"oil\", \"oil\", \"oil\", \"other\", \"other\", \"other\", \"pay\", \"pay\", \"pay\", \"people\", \"people\", \"people\", \"phase\", \"phase\", \"phase\", \"plan\", \"plan\", \"plan\", \"planet\", \"planet\", \"planet\", \"president\", \"president\", \"president\", \"reach\", \"reach\", \"reach\", \"read\", \"read\", \"read\", \"reduce\", \"reduce\", \"reduce\", \"right\", \"right\", \"right\", \"say\", \"say\", \"say\", \"see\", \"see\", \"see\", \"sign\", \"sign\", \"sign\", \"so\", \"so\", \"so\", \"start\", \"start\", \"start\", \"stop\", \"stop\", \"stop\", \"strong\", \"strong\", \"strong\", \"summit\", \"summit\", \"summit\", \"sure\", \"sure\", \"sure\", \"tackle\", \"tackle\", \"tackle\", \"take\", \"take\", \"take\", \"talk\", \"talk\", \"talk\", \"tax\", \"tax\", \"tax\", \"temperature\", \"temperature\", \"temperature\", \"thank\", \"thank\", \"thank\", \"thing\", \"thing\", \"thing\", \"think\", \"think\", \"think\", \"time\", \"time\", \"time\", \"today\", \"today\", \"today\", \"togetherforourplanet\", \"togetherforourplanet\", \"togetherforourplanet\", \"too\", \"too\", \"too\", \"unknown\", \"unknown\", \"unknown\", \"video\", \"video\", \"video\", \"voice\", \"voice\", \"voice\", \"want\", \"want\", \"want\", \"watch\", \"watch\", \"watch\", \"water\", \"water\", \"water\", \"week\", \"week\", \"week\", \"wituawaboot\", \"wituawaboot\", \"wituawaboot\", \"word\", \"word\", \"word\", \"work\", \"work\", \"work\", \"world\", \"world\", \"world\", \"year\", \"year\", \"year\", \"yesscot\", \"yesscot\", \"yesscot\", \"young\", \"young\", \"young\", \"\\u2019\", \"\\u2019\", \"\\u2019\", \"\\u2708\", \"\\u2708\", \"\\u2708\", \"\\ufe0f\", \"\\ufe0f\", \"\\ufe0f\", \"\\ud83d\\udd0a\", \"\\ud83d\\udd0a\", \"\\ud83d\\udd0a\"]}, \"R\": 30, \"lambda.step\": 0.01, \"plot.opts\": {\"xlab\": \"PC1\", \"ylab\": \"PC2\"}, \"topic.order\": [2, 1, 3]};\n",
       "\n",
       "function LDAvis_load_lib(url, callback){\n",
       "  var s = document.createElement('script');\n",
       "  s.src = url;\n",
       "  s.async = true;\n",
       "  s.onreadystatechange = s.onload = callback;\n",
       "  s.onerror = function(){console.warn(\"failed to load library \" + url);};\n",
       "  document.getElementsByTagName(\"head\")[0].appendChild(s);\n",
       "}\n",
       "\n",
       "if(typeof(LDAvis) !== \"undefined\"){\n",
       "   // already loaded: just create the visualization\n",
       "   !function(LDAvis){\n",
       "       new LDAvis(\"#\" + \"ldavis_el9464052975102089344594481\", ldavis_el9464052975102089344594481_data);\n",
       "   }(LDAvis);\n",
       "}else if(typeof define === \"function\" && define.amd){\n",
       "   // require.js is available: use it to load d3/LDAvis\n",
       "   require.config({paths: {d3: \"https://d3js.org/d3.v5\"}});\n",
       "   require([\"d3\"], function(d3){\n",
       "      window.d3 = d3;\n",
       "      LDAvis_load_lib(\"https://cdn.jsdelivr.net/gh/bmabey/pyLDAvis@3.3.1/pyLDAvis/js/ldavis.v3.0.0.js\", function(){\n",
       "        new LDAvis(\"#\" + \"ldavis_el9464052975102089344594481\", ldavis_el9464052975102089344594481_data);\n",
       "      });\n",
       "    });\n",
       "}else{\n",
       "    // require.js not available: dynamically load d3 & LDAvis\n",
       "    LDAvis_load_lib(\"https://d3js.org/d3.v5.js\", function(){\n",
       "         LDAvis_load_lib(\"https://cdn.jsdelivr.net/gh/bmabey/pyLDAvis@3.3.1/pyLDAvis/js/ldavis.v3.0.0.js\", function(){\n",
       "                 new LDAvis(\"#\" + \"ldavis_el9464052975102089344594481\", ldavis_el9464052975102089344594481_data);\n",
       "            })\n",
       "         });\n",
       "}\n",
       "</script>"
      ],
      "text/plain": [
       "PreparedData(topic_coordinates=              x         y  topics  cluster       Freq\n",
       "topic                                                \n",
       "1     -0.104806  0.154821       1        1  49.430042\n",
       "0     -0.104003 -0.155218       2        1  29.384354\n",
       "2      0.208809  0.000398       3        1  21.185604, topic_info=             Term        Freq       Total Category  logprob  loglift\n",
       "10        climate  239.000000  239.000000  Default  30.0000  30.0000\n",
       "29   cop26glasgow   65.000000   65.000000  Default  29.0000  29.0000\n",
       "181           see   52.000000   52.000000  Default  28.0000  28.0000\n",
       "23           make   68.000000   68.000000  Default  27.0000  27.0000\n",
       "50            end   61.000000   61.000000  Default  26.0000  26.0000\n",
       "..            ...         ...         ...      ...      ...      ...\n",
       "152         thing   13.802278   20.603691   Topic3  -4.5366   1.1512\n",
       "89            say   21.762679   63.361599   Topic3  -4.0812   0.4832\n",
       "8            hear   17.131181   35.477092   Topic3  -4.3205   0.8239\n",
       "109          most   14.385979   26.870044   Topic3  -4.4952   0.9271\n",
       "24         people   15.686070   59.322526   Topic3  -4.4086   0.2216\n",
       "\n",
       "[155 rows x 6 columns], token_table=      Topic      Freq Term\n",
       "term                      \n",
       "20        1  0.927525    %\n",
       "20        2  0.031984    %\n",
       "20        3  0.031984    %\n",
       "119       1  0.906348  act\n",
       "119       2  0.043159  act\n",
       "...     ...       ...  ...\n",
       "70        2  0.035037    ️\n",
       "70        3  0.945992    ️\n",
       "71        1  0.045997    🔊\n",
       "71        2  0.045997    🔊\n",
       "71        3  0.919935    🔊\n",
       "\n",
       "[354 rows x 3 columns], R=30, lambda_step=0.01, plot_opts={'xlab': 'PC1', 'ylab': 'PC2'}, topic_order=[2, 1, 3])"
      ]
     },
     "execution_count": 168,
     "metadata": {},
     "output_type": "execute_result"
    }
   ],
   "source": [
    "#pyLDAvis.gensim.prepare(lda_model, corpus, words)\n",
    "pyLDAvis.gensim_models.prepare(lda_model, corpus,id2word)"
   ]
  },
  {
   "cell_type": "code",
   "execution_count": 169,
   "id": "d64336da",
   "metadata": {},
   "outputs": [
    {
     "name": "stderr",
     "output_type": "stream",
     "text": [
      "/opt/anaconda3/lib/python3.8/site-packages/ipykernel/ipkernel.py:287: DeprecationWarning: `should_run_async` will not call `transform_cell` automatically in the future. Please pass the result to `transformed_cell` argument and any exception that happen during thetransform in `preprocessing_exc_tuple` in IPython 7.17 and above.\n",
      "  and should_run_async(code)\n"
     ]
    }
   ],
   "source": [
    "# create temp lists to pass into dataframe\n",
    "tweetlist = []\n",
    "categorylist = []\n",
    "probabilitylist = []\n",
    "topic_assignments = []\n",
    "\n",
    "\n",
    "# Calculate topic probabilities for each tweet & assign tweets to categories\n",
    "for tweet in for_modeling :\n",
    "    doc = [w for w in tweet.split()]\n",
    "    pr = nlp(\" \".join(doc))\n",
    "    doc = [token.lemma_ for token in pr if token.pos_ in allowed_postags]\n",
    "    doc_new = id2word.doc2bow(doc)\n",
    "\n",
    "    topic_probs = lda_model[doc_new][0]\n",
    "    topic = max(topic_probs,key=lambda x: x[1])\n",
    "    topic_assignments.append(topic[0])    \n",
    "    prob = max(topic_probs)\n",
    "    cat = topic[0]\n",
    "    prob = topic[1]\n",
    "    tweetlist.append(tweet)\n",
    "    categorylist.append(cat)\n",
    "    probabilitylist.append(prob)\n",
    "\n",
    "tweets_df = pd.DataFrame()\n",
    "tweets_df[\"Tweet\"] = tweetlist\n",
    "tweets_df[\"Category\"] = categorylist\n",
    "tweets_df[\"Probability\"] = probabilitylist"
   ]
  },
  {
   "cell_type": "markdown",
   "id": "6a84b66e",
   "metadata": {},
   "source": [
    "####  How do you bring the modeled tweets back together with their respective dates?"
   ]
  },
  {
   "cell_type": "code",
   "execution_count": 170,
   "id": "424a4d75",
   "metadata": {},
   "outputs": [
    {
     "name": "stderr",
     "output_type": "stream",
     "text": [
      "/opt/anaconda3/lib/python3.8/site-packages/ipykernel/ipkernel.py:287: DeprecationWarning: `should_run_async` will not call `transform_cell` automatically in the future. Please pass the result to `transformed_cell` argument and any exception that happen during thetransform in `preprocessing_exc_tuple` in IPython 7.17 and above.\n",
      "  and should_run_async(code)\n"
     ]
    },
    {
     "data": {
      "text/html": [
       "<div>\n",
       "<style scoped>\n",
       "    .dataframe tbody tr th:only-of-type {\n",
       "        vertical-align: middle;\n",
       "    }\n",
       "\n",
       "    .dataframe tbody tr th {\n",
       "        vertical-align: top;\n",
       "    }\n",
       "\n",
       "    .dataframe thead th {\n",
       "        text-align: right;\n",
       "    }\n",
       "</style>\n",
       "<table border=\"1\" class=\"dataframe\">\n",
       "  <thead>\n",
       "    <tr style=\"text-align: right;\">\n",
       "      <th></th>\n",
       "      <th>Tweet</th>\n",
       "      <th>Category</th>\n",
       "      <th>Probability</th>\n",
       "    </tr>\n",
       "  </thead>\n",
       "  <tbody>\n",
       "    <tr>\n",
       "      <th>0</th>\n",
       "      <td>In case you missed it, we collaborated with @I...</td>\n",
       "      <td>1</td>\n",
       "      <td>0.888770</td>\n",
       "    </tr>\n",
       "    <tr>\n",
       "      <th>1</th>\n",
       "      <td>@AlokSharma_RDG &amp;amp; @GretaThunberg Have you ...</td>\n",
       "      <td>2</td>\n",
       "      <td>0.562705</td>\n",
       "    </tr>\n",
       "    <tr>\n",
       "      <th>2</th>\n",
       "      <td>@MrKRudd @TurnbullMalcolm @abcnews @ABCscience...</td>\n",
       "      <td>1</td>\n",
       "      <td>0.718271</td>\n",
       "    </tr>\n",
       "    <tr>\n",
       "      <th>3</th>\n",
       "      <td>#cop26 How many #greenhydrogen announcements w...</td>\n",
       "      <td>2</td>\n",
       "      <td>0.686538</td>\n",
       "    </tr>\n",
       "    <tr>\n",
       "      <th>4</th>\n",
       "      <td>CFM Dallas Shares The Beauty Of Jesus Christ A...</td>\n",
       "      <td>0</td>\n",
       "      <td>0.656967</td>\n",
       "    </tr>\n",
       "    <tr>\n",
       "      <th>...</th>\n",
       "      <td>...</td>\n",
       "      <td>...</td>\n",
       "      <td>...</td>\n",
       "    </tr>\n",
       "    <tr>\n",
       "      <th>995</th>\n",
       "      <td>100+ countries formed a pact at #COP26 to end ...</td>\n",
       "      <td>1</td>\n",
       "      <td>0.761943</td>\n",
       "    </tr>\n",
       "    <tr>\n",
       "      <th>996</th>\n",
       "      <td>November News Cup COP 2-6 COVID 1-9 A draw #CO...</td>\n",
       "      <td>0</td>\n",
       "      <td>0.333333</td>\n",
       "    </tr>\n",
       "    <tr>\n",
       "      <th>997</th>\n",
       "      <td>@JoeBiden this falls on your watch. #COP26 #Fo...</td>\n",
       "      <td>0</td>\n",
       "      <td>0.677118</td>\n",
       "    </tr>\n",
       "    <tr>\n",
       "      <th>998</th>\n",
       "      <td>Disappointing outcome from #COP26. More needs ...</td>\n",
       "      <td>1</td>\n",
       "      <td>0.871191</td>\n",
       "    </tr>\n",
       "    <tr>\n",
       "      <th>999</th>\n",
       "      <td>‘Meat tax will hasten the demise of native edi...</td>\n",
       "      <td>1</td>\n",
       "      <td>0.451198</td>\n",
       "    </tr>\n",
       "  </tbody>\n",
       "</table>\n",
       "<p>1000 rows × 3 columns</p>\n",
       "</div>"
      ],
      "text/plain": [
       "                                                 Tweet  Category  Probability\n",
       "0    In case you missed it, we collaborated with @I...         1     0.888770\n",
       "1    @AlokSharma_RDG &amp; @GretaThunberg Have you ...         2     0.562705\n",
       "2    @MrKRudd @TurnbullMalcolm @abcnews @ABCscience...         1     0.718271\n",
       "3    #cop26 How many #greenhydrogen announcements w...         2     0.686538\n",
       "4    CFM Dallas Shares The Beauty Of Jesus Christ A...         0     0.656967\n",
       "..                                                 ...       ...          ...\n",
       "995  100+ countries formed a pact at #COP26 to end ...         1     0.761943\n",
       "996  November News Cup COP 2-6 COVID 1-9 A draw #CO...         0     0.333333\n",
       "997  @JoeBiden this falls on your watch. #COP26 #Fo...         0     0.677118\n",
       "998  Disappointing outcome from #COP26. More needs ...         1     0.871191\n",
       "999  ‘Meat tax will hasten the demise of native edi...         1     0.451198\n",
       "\n",
       "[1000 rows x 3 columns]"
      ]
     },
     "execution_count": 170,
     "metadata": {},
     "output_type": "execute_result"
    }
   ],
   "source": [
    "tweets_df"
   ]
  },
  {
   "cell_type": "code",
   "execution_count": 173,
   "id": "84036843",
   "metadata": {},
   "outputs": [
    {
     "name": "stderr",
     "output_type": "stream",
     "text": [
      "/opt/anaconda3/lib/python3.8/site-packages/ipykernel/ipkernel.py:287: DeprecationWarning: `should_run_async` will not call `transform_cell` automatically in the future. Please pass the result to `transformed_cell` argument and any exception that happen during thetransform in `preprocessing_exc_tuple` in IPython 7.17 and above.\n",
      "  and should_run_async(code)\n"
     ]
    },
    {
     "data": {
      "text/html": [
       "<div>\n",
       "<style scoped>\n",
       "    .dataframe tbody tr th:only-of-type {\n",
       "        vertical-align: middle;\n",
       "    }\n",
       "\n",
       "    .dataframe tbody tr th {\n",
       "        vertical-align: top;\n",
       "    }\n",
       "\n",
       "    .dataframe thead th {\n",
       "        text-align: right;\n",
       "    }\n",
       "</style>\n",
       "<table border=\"1\" class=\"dataframe\">\n",
       "  <thead>\n",
       "    <tr style=\"text-align: right;\">\n",
       "      <th></th>\n",
       "      <th>user_id</th>\n",
       "      <th>screen_name</th>\n",
       "      <th>description</th>\n",
       "      <th>location</th>\n",
       "      <th>friends_count</th>\n",
       "      <th>followers_count</th>\n",
       "      <th>totaltweets</th>\n",
       "      <th>date_created</th>\n",
       "      <th>tweet_id</th>\n",
       "      <th>retweetcount</th>\n",
       "      <th>full_text</th>\n",
       "      <th>Unnamed: 0</th>\n",
       "    </tr>\n",
       "  </thead>\n",
       "  <tbody>\n",
       "    <tr>\n",
       "      <th>0</th>\n",
       "      <td>581106535</td>\n",
       "      <td>jHIllionaire</td>\n",
       "      <td>NaN</td>\n",
       "      <td>Little Rock, AR</td>\n",
       "      <td>992</td>\n",
       "      <td>346</td>\n",
       "      <td>392</td>\n",
       "      <td>2021-10-28 23:59:57+00:00</td>\n",
       "      <td>1453874206224101390</td>\n",
       "      <td>0</td>\n",
       "      <td>ANOTHER SENATOR PAID OFF! SEC NOT BANNING PFOF...</td>\n",
       "      <td>NaN</td>\n",
       "    </tr>\n",
       "    <tr>\n",
       "      <th>1</th>\n",
       "      <td>404386400</td>\n",
       "      <td>AndyFCDO</td>\n",
       "      <td>FCDO Adviser and M&amp;E Lead for our regional dev...</td>\n",
       "      <td>Barbados</td>\n",
       "      <td>159</td>\n",
       "      <td>300</td>\n",
       "      <td>279</td>\n",
       "      <td>2021-10-28 23:59:34+00:00</td>\n",
       "      <td>1453874109826412575</td>\n",
       "      <td>1</td>\n",
       "      <td>Interesting piece on how COP26’s host - the ci...</td>\n",
       "      <td>NaN</td>\n",
       "    </tr>\n",
       "    <tr>\n",
       "      <th>2</th>\n",
       "      <td>4357271</td>\n",
       "      <td>gmh_upsa</td>\n",
       "      <td>This is what I stand for: “There is nothing so...</td>\n",
       "      <td>Santo Domingo, Rep.Dominicana</td>\n",
       "      <td>3837</td>\n",
       "      <td>1365</td>\n",
       "      <td>32502</td>\n",
       "      <td>2021-10-28 23:59:33+00:00</td>\n",
       "      <td>1453874106030563328</td>\n",
       "      <td>2</td>\n",
       "      <td>@YoQPagoTolaLu @FPRI @JosephdeWeck @SibillaBon...</td>\n",
       "      <td>NaN</td>\n",
       "    </tr>\n",
       "    <tr>\n",
       "      <th>3</th>\n",
       "      <td>993968890500788225</td>\n",
       "      <td>GlasgowlovesEu</td>\n",
       "      <td>Non-partisan Glasgow-based group working for r...</td>\n",
       "      <td>Glasgow</td>\n",
       "      <td>5001</td>\n",
       "      <td>4198</td>\n",
       "      <td>23082</td>\n",
       "      <td>2021-10-28 23:59:07+00:00</td>\n",
       "      <td>1453873999881121818</td>\n",
       "      <td>4</td>\n",
       "      <td>The world’s first hydrogen bus arrives in Glas...</td>\n",
       "      <td>NaN</td>\n",
       "    </tr>\n",
       "    <tr>\n",
       "      <th>4</th>\n",
       "      <td>19381546</td>\n",
       "      <td>AliceAnnKuder</td>\n",
       "      <td>Entrepreneur, writer, Realtor, canine guardian.</td>\n",
       "      <td>Seattle</td>\n",
       "      <td>159</td>\n",
       "      <td>144</td>\n",
       "      <td>3232</td>\n",
       "      <td>2021-10-28 23:58:59+00:00</td>\n",
       "      <td>1453873963591815170</td>\n",
       "      <td>0</td>\n",
       "      <td>Empty promises on climate have failed us. With...</td>\n",
       "      <td>NaN</td>\n",
       "    </tr>\n",
       "    <tr>\n",
       "      <th>...</th>\n",
       "      <td>...</td>\n",
       "      <td>...</td>\n",
       "      <td>...</td>\n",
       "      <td>...</td>\n",
       "      <td>...</td>\n",
       "      <td>...</td>\n",
       "      <td>...</td>\n",
       "      <td>...</td>\n",
       "      <td>...</td>\n",
       "      <td>...</td>\n",
       "      <td>...</td>\n",
       "      <td>...</td>\n",
       "    </tr>\n",
       "    <tr>\n",
       "      <th>285079</th>\n",
       "      <td>2338181660</td>\n",
       "      <td>louisajanemoss</td>\n",
       "      <td>Everything is connected</td>\n",
       "      <td>Dublin City, Ireland</td>\n",
       "      <td>5306.0</td>\n",
       "      <td>5492.0</td>\n",
       "      <td>7844.0</td>\n",
       "      <td>2021-11-15 17:30:34+00:00</td>\n",
       "      <td>1460299198658756608.0</td>\n",
       "      <td>1.0</td>\n",
       "      <td>#WeCanChange when @RubyMossMusic was 12\\nHave ...</td>\n",
       "      <td>NaN</td>\n",
       "    </tr>\n",
       "    <tr>\n",
       "      <th>285080</th>\n",
       "      <td>242475822</td>\n",
       "      <td>sab_property</td>\n",
       "      <td>Saint Andrews Bureau is a #lettings, #estatema...</td>\n",
       "      <td>NaN</td>\n",
       "      <td>321.0</td>\n",
       "      <td>315.0</td>\n",
       "      <td>2941.0</td>\n",
       "      <td>2021-11-15 17:30:33+00:00</td>\n",
       "      <td>1460299192908275712.0</td>\n",
       "      <td>0.0</td>\n",
       "      <td>As #COP26 continues, research by HomeViews has...</td>\n",
       "      <td>NaN</td>\n",
       "    </tr>\n",
       "    <tr>\n",
       "      <th>285081</th>\n",
       "      <td>88697269</td>\n",
       "      <td>ENGIEgroup</td>\n",
       "      <td>ENGIE is a leading world group that provides l...</td>\n",
       "      <td>Hauts-de-Seine, Ile-de-France</td>\n",
       "      <td>3285.0</td>\n",
       "      <td>65537.0</td>\n",
       "      <td>14427.0</td>\n",
       "      <td>2021-11-15 17:30:22+00:00</td>\n",
       "      <td>1460299147689480192.0</td>\n",
       "      <td>1.0</td>\n",
       "      <td>#COP26 is over!\\nAfter the debates, the countr...</td>\n",
       "      <td>NaN</td>\n",
       "    </tr>\n",
       "    <tr>\n",
       "      <th>285082</th>\n",
       "      <td>266628437</td>\n",
       "      <td>TheNHIC</td>\n",
       "      <td>Membership organisation for the UK's repair, m...</td>\n",
       "      <td>Nationwide</td>\n",
       "      <td>569.0</td>\n",
       "      <td>1337.0</td>\n",
       "      <td>10377.0</td>\n",
       "      <td>2021-11-15 17:30:20+00:00</td>\n",
       "      <td>1460299137719713792.0</td>\n",
       "      <td>0.0</td>\n",
       "      <td>👂#listennow \\n\\nWant to hear about the home of...</td>\n",
       "      <td>NaN</td>\n",
       "    </tr>\n",
       "    <tr>\n",
       "      <th>285083</th>\n",
       "      <td>2485427431</td>\n",
       "      <td>UNDP_SDGFinance</td>\n",
       "      <td>Accelerating Finance for the SDGs and COVID-19...</td>\n",
       "      <td>New York</td>\n",
       "      <td>958.0</td>\n",
       "      <td>4499.0</td>\n",
       "      <td>4196.0</td>\n",
       "      <td>2021-11-15 17:30:19+00:00</td>\n",
       "      <td>1460299134112575488.0</td>\n",
       "      <td>15.0</td>\n",
       "      <td>Loss &amp;amp; damage was a critical issue raised ...</td>\n",
       "      <td>NaN</td>\n",
       "    </tr>\n",
       "  </tbody>\n",
       "</table>\n",
       "<p>285084 rows × 12 columns</p>\n",
       "</div>"
      ],
      "text/plain": [
       "                   user_id      screen_name  \\\n",
       "0                581106535     jHIllionaire   \n",
       "1                404386400         AndyFCDO   \n",
       "2                  4357271         gmh_upsa   \n",
       "3       993968890500788225   GlasgowlovesEu   \n",
       "4                 19381546    AliceAnnKuder   \n",
       "...                    ...              ...   \n",
       "285079          2338181660   louisajanemoss   \n",
       "285080           242475822     sab_property   \n",
       "285081            88697269       ENGIEgroup   \n",
       "285082           266628437          TheNHIC   \n",
       "285083          2485427431  UNDP_SDGFinance   \n",
       "\n",
       "                                              description  \\\n",
       "0                                                     NaN   \n",
       "1       FCDO Adviser and M&E Lead for our regional dev...   \n",
       "2       This is what I stand for: “There is nothing so...   \n",
       "3       Non-partisan Glasgow-based group working for r...   \n",
       "4         Entrepreneur, writer, Realtor, canine guardian.   \n",
       "...                                                   ...   \n",
       "285079                            Everything is connected   \n",
       "285080  Saint Andrews Bureau is a #lettings, #estatema...   \n",
       "285081  ENGIE is a leading world group that provides l...   \n",
       "285082  Membership organisation for the UK's repair, m...   \n",
       "285083  Accelerating Finance for the SDGs and COVID-19...   \n",
       "\n",
       "                             location friends_count followers_count  \\\n",
       "0                     Little Rock, AR           992             346   \n",
       "1                            Barbados           159             300   \n",
       "2       Santo Domingo, Rep.Dominicana          3837            1365   \n",
       "3                            Glasgow           5001            4198   \n",
       "4                             Seattle           159             144   \n",
       "...                               ...           ...             ...   \n",
       "285079           Dublin City, Ireland        5306.0          5492.0   \n",
       "285080                            NaN         321.0           315.0   \n",
       "285081  Hauts-de-Seine, Ile-de-France        3285.0         65537.0   \n",
       "285082                     Nationwide         569.0          1337.0   \n",
       "285083                       New York         958.0          4499.0   \n",
       "\n",
       "       totaltweets               date_created               tweet_id  \\\n",
       "0              392  2021-10-28 23:59:57+00:00    1453874206224101390   \n",
       "1              279  2021-10-28 23:59:34+00:00    1453874109826412575   \n",
       "2            32502  2021-10-28 23:59:33+00:00    1453874106030563328   \n",
       "3            23082  2021-10-28 23:59:07+00:00    1453873999881121818   \n",
       "4             3232  2021-10-28 23:58:59+00:00    1453873963591815170   \n",
       "...            ...                        ...                    ...   \n",
       "285079      7844.0  2021-11-15 17:30:34+00:00  1460299198658756608.0   \n",
       "285080      2941.0  2021-11-15 17:30:33+00:00  1460299192908275712.0   \n",
       "285081     14427.0  2021-11-15 17:30:22+00:00  1460299147689480192.0   \n",
       "285082     10377.0  2021-11-15 17:30:20+00:00  1460299137719713792.0   \n",
       "285083      4196.0  2021-11-15 17:30:19+00:00  1460299134112575488.0   \n",
       "\n",
       "       retweetcount                                          full_text  \\\n",
       "0                 0  ANOTHER SENATOR PAID OFF! SEC NOT BANNING PFOF...   \n",
       "1                 1  Interesting piece on how COP26’s host - the ci...   \n",
       "2                 2  @YoQPagoTolaLu @FPRI @JosephdeWeck @SibillaBon...   \n",
       "3                 4  The world’s first hydrogen bus arrives in Glas...   \n",
       "4                 0  Empty promises on climate have failed us. With...   \n",
       "...             ...                                                ...   \n",
       "285079          1.0  #WeCanChange when @RubyMossMusic was 12\\nHave ...   \n",
       "285080          0.0  As #COP26 continues, research by HomeViews has...   \n",
       "285081          1.0  #COP26 is over!\\nAfter the debates, the countr...   \n",
       "285082          0.0  👂#listennow \\n\\nWant to hear about the home of...   \n",
       "285083         15.0  Loss &amp; damage was a critical issue raised ...   \n",
       "\n",
       "       Unnamed: 0  \n",
       "0             NaN  \n",
       "1             NaN  \n",
       "2             NaN  \n",
       "3             NaN  \n",
       "4             NaN  \n",
       "...           ...  \n",
       "285079        NaN  \n",
       "285080        NaN  \n",
       "285081        NaN  \n",
       "285082        NaN  \n",
       "285083        NaN  \n",
       "\n",
       "[285084 rows x 12 columns]"
      ]
     },
     "execution_count": 173,
     "metadata": {},
     "output_type": "execute_result"
    }
   ],
   "source": [
    "db"
   ]
  },
  {
   "cell_type": "code",
   "execution_count": 194,
   "id": "b4842e9c",
   "metadata": {
    "scrolled": true
   },
   "outputs": [
    {
     "name": "stderr",
     "output_type": "stream",
     "text": [
      "/opt/anaconda3/lib/python3.8/site-packages/ipykernel/ipkernel.py:287: DeprecationWarning: `should_run_async` will not call `transform_cell` automatically in the future. Please pass the result to `transformed_cell` argument and any exception that happen during thetransform in `preprocessing_exc_tuple` in IPython 7.17 and above.\n",
      "  and should_run_async(code)\n"
     ]
    }
   ],
   "source": [
    "newdf = tweets_df.merge(db, left_on='Tweet', right_on='full_text', how='inner')"
   ]
  },
  {
   "cell_type": "code",
   "execution_count": 195,
   "id": "ed65163b",
   "metadata": {},
   "outputs": [
    {
     "name": "stderr",
     "output_type": "stream",
     "text": [
      "/opt/anaconda3/lib/python3.8/site-packages/ipykernel/ipkernel.py:287: DeprecationWarning: `should_run_async` will not call `transform_cell` automatically in the future. Please pass the result to `transformed_cell` argument and any exception that happen during thetransform in `preprocessing_exc_tuple` in IPython 7.17 and above.\n",
      "  and should_run_async(code)\n"
     ]
    }
   ],
   "source": [
    "newdf2 = newdf.drop_duplicates(subset=['tweet_id'], keep='first')"
   ]
  },
  {
   "cell_type": "code",
   "execution_count": 196,
   "id": "8d51a6cc",
   "metadata": {},
   "outputs": [
    {
     "name": "stderr",
     "output_type": "stream",
     "text": [
      "/opt/anaconda3/lib/python3.8/site-packages/ipykernel/ipkernel.py:287: DeprecationWarning: `should_run_async` will not call `transform_cell` automatically in the future. Please pass the result to `transformed_cell` argument and any exception that happen during thetransform in `preprocessing_exc_tuple` in IPython 7.17 and above.\n",
      "  and should_run_async(code)\n",
      "<ipython-input-196-34ead37cd5e8>:3: SettingWithCopyWarning: \n",
      "A value is trying to be set on a copy of a slice from a DataFrame.\n",
      "Try using .loc[row_indexer,col_indexer] = value instead\n",
      "\n",
      "See the caveats in the documentation: https://pandas.pydata.org/pandas-docs/stable/user_guide/indexing.html#returning-a-view-versus-a-copy\n",
      "  newdf2['Category'] = newdf2['Category'].replace([0, 1, 2],\n"
     ]
    }
   ],
   "source": [
    "# rename columns from numbers to actual names for final display\n",
    "\n",
    "newdf2['Category'] = newdf2['Category'].replace([0, 1, 2],\n",
    "                                                            ['Policy', 'Action','Random'])\n"
   ]
  },
  {
   "cell_type": "code",
   "execution_count": 197,
   "id": "9c7cea9d",
   "metadata": {
    "scrolled": false
   },
   "outputs": [
    {
     "name": "stderr",
     "output_type": "stream",
     "text": [
      "/opt/anaconda3/lib/python3.8/site-packages/ipykernel/ipkernel.py:287: DeprecationWarning: `should_run_async` will not call `transform_cell` automatically in the future. Please pass the result to `transformed_cell` argument and any exception that happen during thetransform in `preprocessing_exc_tuple` in IPython 7.17 and above.\n",
      "  and should_run_async(code)\n"
     ]
    }
   ],
   "source": [
    "actiondf = newdf2[newdf2['Category']=='Action']"
   ]
  },
  {
   "cell_type": "code",
   "execution_count": 199,
   "id": "2f65c561",
   "metadata": {},
   "outputs": [
    {
     "name": "stderr",
     "output_type": "stream",
     "text": [
      "/opt/anaconda3/lib/python3.8/site-packages/ipykernel/ipkernel.py:287: DeprecationWarning: `should_run_async` will not call `transform_cell` automatically in the future. Please pass the result to `transformed_cell` argument and any exception that happen during thetransform in `preprocessing_exc_tuple` in IPython 7.17 and above.\n",
      "  and should_run_async(code)\n"
     ]
    }
   ],
   "source": [
    "policydf = newdf2[newdf2['Category']=='Policy']"
   ]
  },
  {
   "cell_type": "code",
   "execution_count": 200,
   "id": "e97a69c2",
   "metadata": {},
   "outputs": [
    {
     "name": "stderr",
     "output_type": "stream",
     "text": [
      "/opt/anaconda3/lib/python3.8/site-packages/ipykernel/ipkernel.py:287: DeprecationWarning: `should_run_async` will not call `transform_cell` automatically in the future. Please pass the result to `transformed_cell` argument and any exception that happen during thetransform in `preprocessing_exc_tuple` in IPython 7.17 and above.\n",
      "  and should_run_async(code)\n"
     ]
    }
   ],
   "source": [
    "randomdf = newdf2[newdf2['Category']=='Random']"
   ]
  },
  {
   "cell_type": "code",
   "execution_count": 201,
   "id": "b6bdc354",
   "metadata": {},
   "outputs": [
    {
     "name": "stderr",
     "output_type": "stream",
     "text": [
      "/opt/anaconda3/lib/python3.8/site-packages/ipykernel/ipkernel.py:287: DeprecationWarning: `should_run_async` will not call `transform_cell` automatically in the future. Please pass the result to `transformed_cell` argument and any exception that happen during thetransform in `preprocessing_exc_tuple` in IPython 7.17 and above.\n",
      "  and should_run_async(code)\n"
     ]
    }
   ],
   "source": [
    "# Subset dataframe to multiple 3-day windows\n",
    "\n",
    "w1_text = actiondf.full_text[(actiondf['date_created']>= \"2021-10-28\") & (actiondf['date_created']< \"2021-10-29\")]\n",
    "w2_text = actiondf.full_text[(actiondf['date_created']>= \"2021-10-29\") & (actiondf['date_created']< \"2021-10-30\")]\n",
    "w3_text = actiondf.full_text[(actiondf['date_created']>= \"2021-10-30\") & (actiondf['date_created']< \"2021-10-31\")]\n",
    "w4_text = actiondf.full_text[(actiondf['date_created']>= \"2021-10-31\") & (actiondf['date_created']< \"2021-11-01\")]\n",
    "w5_text = actiondf.full_text[(actiondf['date_created']>= \"2021-11-01\") & (actiondf['date_created']< \"2021-11-02\")]\n",
    "w6_text = actiondf.full_text[(actiondf['date_created']>= \"2021-11-02\") & (actiondf['date_created']< \"2021-11-03\")]\n",
    "w7_text = actiondf.full_text[(actiondf['date_created']>= \"2021-11-03\") & (actiondf['date_created']< \"2021-11-04\")]\n",
    "w8_text = actiondf.full_text[(actiondf['date_created']>= \"2021-11-04\") & (actiondf['date_created']< \"2021-11-05\")]\n",
    "w9_text = actiondf.full_text[(actiondf['date_created']>= \"2021-11-05\") & (actiondf['date_created']< \"2021-11-06\")]\n",
    "w10_text = actiondf.full_text[(actiondf['date_created']>= \"2021-11-06\") & (actiondf['date_created']< \"2021-11-07\")]\n",
    "w11_text = actiondf.full_text[(actiondf['date_created']>= \"2021-11-07\") & (actiondf['date_created']< \"2021-11-08\")]\n",
    "w12_text = actiondf.full_text[(actiondf['date_created']>= \"2021-11-08\") & (actiondf['date_created']< \"2021-11-09\")]\n",
    "w13_text = actiondf.full_text[(actiondf['date_created']>= \"2021-11-09\") & (actiondf['date_created']< \"2021-11-10\")]\n",
    "w14_text = actiondf.full_text[(actiondf['date_created']>= \"2021-11-10\") & (actiondf['date_created']< \"2021-11-11\")]\n",
    "w15_text = actiondf.full_text[(actiondf['date_created']>= \"2021-11-11\") & (actiondf['date_created']< \"2021-11-12\")]\n",
    "w16_text = actiondf.full_text[(actiondf['date_created']>= \"2021-11-12\") & (actiondf['date_created']< \"2021-11-13\")]\n",
    "w17_text = actiondf.full_text[(actiondf['date_created']>= \"2021-11-13\") & (actiondf['date_created']< \"2021-11-14\")]\n",
    "w18_text = actiondf.full_text[(actiondf['date_created']>= \"2021-11-14\") & (actiondf['date_created']< \"2021-11-15\")]\n",
    "w19_text = actiondf.full_text[(actiondf['date_created']>= \"2021-11-15\") & (actiondf['date_created']< \"2021-11-16\")]"
   ]
  },
  {
   "cell_type": "code",
   "execution_count": 202,
   "id": "27217c15",
   "metadata": {},
   "outputs": [
    {
     "name": "stderr",
     "output_type": "stream",
     "text": [
      "/opt/anaconda3/lib/python3.8/site-packages/ipykernel/ipkernel.py:287: DeprecationWarning: `should_run_async` will not call `transform_cell` automatically in the future. Please pass the result to `transformed_cell` argument and any exception that happen during thetransform in `preprocessing_exc_tuple` in IPython 7.17 and above.\n",
      "  and should_run_async(code)\n"
     ]
    }
   ],
   "source": [
    "# Subset dataframe to multiple 3-day windows\n",
    "\n",
    "pw1_text = policydf.full_text[(policydf['date_created']>= \"2021-10-28\") & (policydf['date_created']< \"2021-10-29\")]\n",
    "pw2_text = policydf.full_text[(policydf['date_created']>= \"2021-10-29\") & (policydf['date_created']< \"2021-10-30\")]\n",
    "pw3_text = policydf.full_text[(policydf['date_created']>= \"2021-10-30\") & (policydf['date_created']< \"2021-10-31\")]\n",
    "pw4_text = policydf.full_text[(policydf['date_created']>= \"2021-10-31\") & (policydf['date_created']< \"2021-11-01\")]\n",
    "pw5_text = policydf.full_text[(policydf['date_created']>= \"2021-11-01\") & (policydf['date_created']< \"2021-11-02\")]\n",
    "pw6_text = policydf.full_text[(policydf['date_created']>= \"2021-11-02\") & (policydf['date_created']< \"2021-11-03\")]\n",
    "pw7_text = policydf.full_text[(policydf['date_created']>= \"2021-11-03\") & (policydf['date_created']< \"2021-11-04\")]\n",
    "pw8_text = policydf.full_text[(policydf['date_created']>= \"2021-11-04\") & (policydf['date_created']< \"2021-11-05\")]\n",
    "pw9_text = policydf.full_text[(policydf['date_created']>= \"2021-11-05\") & (policydf['date_created']< \"2021-11-06\")]\n",
    "pw10_text = policydf.full_text[(policydf['date_created']>= \"2021-11-06\") & (policydf['date_created']< \"2021-11-07\")]\n",
    "pw11_text = policydf.full_text[(policydf['date_created']>= \"2021-11-07\") & (policydf['date_created']< \"2021-11-08\")]\n",
    "pw12_text = policydf.full_text[(policydf['date_created']>= \"2021-11-08\") & (policydf['date_created']< \"2021-11-09\")]\n",
    "pw13_text = policydf.full_text[(policydf['date_created']>= \"2021-11-09\") & (policydf['date_created']< \"2021-11-10\")]\n",
    "pw14_text = policydf.full_text[(policydf['date_created']>= \"2021-11-10\") & (policydf['date_created']< \"2021-11-11\")]\n",
    "pw15_text = policydf.full_text[(policydf['date_created']>= \"2021-11-11\") & (policydf['date_created']< \"2021-11-12\")]\n",
    "pw16_text = policydf.full_text[(policydf['date_created']>= \"2021-11-12\") & (policydf['date_created']< \"2021-11-13\")]\n",
    "pw17_text = policydf.full_text[(policydf['date_created']>= \"2021-11-13\") & (policydf['date_created']< \"2021-11-14\")]\n",
    "pw18_text = policydf.full_text[(policydf['date_created']>= \"2021-11-14\") & (policydf['date_created']< \"2021-11-15\")]\n",
    "pw19_text = policydf.full_text[(policydf['date_created']>= \"2021-11-15\") & (policydf['date_created']< \"2021-11-16\")]"
   ]
  },
  {
   "cell_type": "code",
   "execution_count": 203,
   "id": "e327a5b8",
   "metadata": {},
   "outputs": [
    {
     "name": "stderr",
     "output_type": "stream",
     "text": [
      "/opt/anaconda3/lib/python3.8/site-packages/ipykernel/ipkernel.py:287: DeprecationWarning: `should_run_async` will not call `transform_cell` automatically in the future. Please pass the result to `transformed_cell` argument and any exception that happen during thetransform in `preprocessing_exc_tuple` in IPython 7.17 and above.\n",
      "  and should_run_async(code)\n"
     ]
    }
   ],
   "source": [
    "# Subset dataframe to multiple 3-day windows\n",
    "\n",
    "rw1_text = randomdf.full_text[(randomdf['date_created']>= \"2021-10-28\") & (randomdf['date_created']< \"2021-10-29\")]\n",
    "rw2_text = randomdf.full_text[(randomdf['date_created']>= \"2021-10-29\") & (randomdf['date_created']< \"2021-10-30\")]\n",
    "rw3_text = randomdf.full_text[(randomdf['date_created']>= \"2021-10-30\") & (randomdf['date_created']< \"2021-10-31\")]\n",
    "rw4_text = randomdf.full_text[(randomdf['date_created']>= \"2021-10-31\") & (randomdf['date_created']< \"2021-11-01\")]\n",
    "rw5_text = randomdf.full_text[(randomdf['date_created']>= \"2021-11-01\") & (randomdf['date_created']< \"2021-11-02\")]\n",
    "rw6_text = randomdf.full_text[(randomdf['date_created']>= \"2021-11-02\") & (randomdf['date_created']< \"2021-11-03\")]\n",
    "rw7_text = randomdf.full_text[(randomdf['date_created']>= \"2021-11-03\") & (randomdf['date_created']< \"2021-11-04\")]\n",
    "rw8_text = randomdf.full_text[(randomdf['date_created']>= \"2021-11-04\") & (randomdf['date_created']< \"2021-11-05\")]\n",
    "rw9_text = randomdf.full_text[(randomdf['date_created']>= \"2021-11-05\") & (randomdf['date_created']< \"2021-11-06\")]\n",
    "rw10_text = randomdf.full_text[(randomdf['date_created']>= \"2021-11-06\") & (randomdf['date_created']< \"2021-11-07\")]\n",
    "rw11_text = randomdf.full_text[(randomdf['date_created']>= \"2021-11-07\") & (randomdf['date_created']< \"2021-11-08\")]\n",
    "rw12_text = randomdf.full_text[(randomdf['date_created']>= \"2021-11-08\") & (randomdf['date_created']< \"2021-11-09\")]\n",
    "rw13_text = randomdf.full_text[(randomdf['date_created']>= \"2021-11-09\") & (randomdf['date_created']< \"2021-11-10\")]\n",
    "rw14_text = randomdf.full_text[(randomdf['date_created']>= \"2021-11-10\") & (randomdf['date_created']< \"2021-11-11\")]\n",
    "rw15_text = randomdf.full_text[(randomdf['date_created']>= \"2021-11-11\") & (randomdf['date_created']< \"2021-11-12\")]\n",
    "rw16_text = randomdf.full_text[(randomdf['date_created']>= \"2021-11-12\") & (randomdf['date_created']< \"2021-11-13\")]\n",
    "rw17_text = randomdf.full_text[(randomdf['date_created']>= \"2021-11-13\") & (randomdf['date_created']< \"2021-11-14\")]\n",
    "rw18_text = randomdf.full_text[(randomdf['date_created']>= \"2021-11-14\") & (randomdf['date_created']< \"2021-11-15\")]\n",
    "rw19_text = randomdf.full_text[(randomdf['date_created']>= \"2021-11-15\") & (randomdf['date_created']< \"2021-11-16\")]"
   ]
  },
  {
   "cell_type": "code",
   "execution_count": 204,
   "id": "9acbd6f1",
   "metadata": {},
   "outputs": [
    {
     "name": "stderr",
     "output_type": "stream",
     "text": [
      "/opt/anaconda3/lib/python3.8/site-packages/ipykernel/ipkernel.py:287: DeprecationWarning: `should_run_async` will not call `transform_cell` automatically in the future. Please pass the result to `transformed_cell` argument and any exception that happen during thetransform in `preprocessing_exc_tuple` in IPython 7.17 and above.\n",
      "  and should_run_async(code)\n"
     ]
    }
   ],
   "source": [
    "actiontweets = [w1_text, w2_text, w3_text, w4_text, w5_text, w6_text, w7_text, w8_text, w9_text, w10_text,\n",
    "              w11_text, w12_text, w13_text, w14_text, w15_text, w16_text, w17_text, w18_text, w19_text]"
   ]
  },
  {
   "cell_type": "code",
   "execution_count": 205,
   "id": "c3f19cd7",
   "metadata": {},
   "outputs": [
    {
     "name": "stderr",
     "output_type": "stream",
     "text": [
      "/opt/anaconda3/lib/python3.8/site-packages/ipykernel/ipkernel.py:287: DeprecationWarning: `should_run_async` will not call `transform_cell` automatically in the future. Please pass the result to `transformed_cell` argument and any exception that happen during thetransform in `preprocessing_exc_tuple` in IPython 7.17 and above.\n",
      "  and should_run_async(code)\n"
     ]
    }
   ],
   "source": [
    "randomtweets = [rw1_text, rw2_text, rw3_text, rw4_text, rw5_text, rw6_text, rw7_text, rw8_text, rw9_text, rw10_text,\n",
    "              rw11_text, rw12_text, rw13_text, rw14_text, rw15_text, rw16_text, rw17_text, rw18_text, rw19_text]"
   ]
  },
  {
   "cell_type": "code",
   "execution_count": 206,
   "id": "0e6a77f4",
   "metadata": {},
   "outputs": [
    {
     "name": "stderr",
     "output_type": "stream",
     "text": [
      "/opt/anaconda3/lib/python3.8/site-packages/ipykernel/ipkernel.py:287: DeprecationWarning: `should_run_async` will not call `transform_cell` automatically in the future. Please pass the result to `transformed_cell` argument and any exception that happen during thetransform in `preprocessing_exc_tuple` in IPython 7.17 and above.\n",
      "  and should_run_async(code)\n"
     ]
    }
   ],
   "source": [
    "policyweets = [pw1_text, pw2_text, pw3_text, pw4_text, pw5_text, pw6_text, pw7_text, pw8_text, pw9_text, pw10_text,\n",
    "              pw11_text, pw12_text, pw13_text, pw14_text, pw15_text, pw16_text, pw17_text, pw18_text, pw19_text]"
   ]
  },
  {
   "cell_type": "code",
   "execution_count": 218,
   "id": "d5e19c63",
   "metadata": {},
   "outputs": [
    {
     "name": "stderr",
     "output_type": "stream",
     "text": [
      "/opt/anaconda3/lib/python3.8/site-packages/ipykernel/ipkernel.py:287: DeprecationWarning: `should_run_async` will not call `transform_cell` automatically in the future. Please pass the result to `transformed_cell` argument and any exception that happen during thetransform in `preprocessing_exc_tuple` in IPython 7.17 and above.\n",
      "  and should_run_async(code)\n"
     ]
    }
   ],
   "source": [
    "actionscores = []\n",
    "\n",
    "for item in actiontweets:\n",
    "    score = sentiment_bywindow(item)\n",
    "    actionscores.append(score)\n",
    "    \n",
    "actionlist = []\n",
    "\n",
    "for item in actionscores:\n",
    "    actionlist.append(item[0])"
   ]
  },
  {
   "cell_type": "code",
   "execution_count": 219,
   "id": "30d168ca",
   "metadata": {},
   "outputs": [
    {
     "name": "stderr",
     "output_type": "stream",
     "text": [
      "/opt/anaconda3/lib/python3.8/site-packages/ipykernel/ipkernel.py:287: DeprecationWarning: `should_run_async` will not call `transform_cell` automatically in the future. Please pass the result to `transformed_cell` argument and any exception that happen during thetransform in `preprocessing_exc_tuple` in IPython 7.17 and above.\n",
      "  and should_run_async(code)\n"
     ]
    }
   ],
   "source": [
    "randomscores = []\n",
    "\n",
    "for item in randomtweets:\n",
    "    score = sentiment_bywindow(item)\n",
    "    randomscores.append(score)\n",
    "    \n",
    "randomlist = []\n",
    "\n",
    "for item in randomscores:\n",
    "    randomlist.append(item[0])"
   ]
  },
  {
   "cell_type": "code",
   "execution_count": 220,
   "id": "b8682484",
   "metadata": {},
   "outputs": [
    {
     "name": "stderr",
     "output_type": "stream",
     "text": [
      "/opt/anaconda3/lib/python3.8/site-packages/ipykernel/ipkernel.py:287: DeprecationWarning: `should_run_async` will not call `transform_cell` automatically in the future. Please pass the result to `transformed_cell` argument and any exception that happen during thetransform in `preprocessing_exc_tuple` in IPython 7.17 and above.\n",
      "  and should_run_async(code)\n"
     ]
    }
   ],
   "source": [
    "policyscores = []\n",
    "\n",
    "for item in policyweets:\n",
    "    score = sentiment_bywindow(item)\n",
    "    policyscores.append(score)\n",
    "    \n",
    "policylist = []\n",
    "\n",
    "for item in policyscores:\n",
    "    policylist.append(item[0])"
   ]
  },
  {
   "cell_type": "code",
   "execution_count": 231,
   "id": "f5e59b55",
   "metadata": {},
   "outputs": [
    {
     "name": "stderr",
     "output_type": "stream",
     "text": [
      "/opt/anaconda3/lib/python3.8/site-packages/ipykernel/ipkernel.py:287: DeprecationWarning: `should_run_async` will not call `transform_cell` automatically in the future. Please pass the result to `transformed_cell` argument and any exception that happen during thetransform in `preprocessing_exc_tuple` in IPython 7.17 and above.\n",
      "  and should_run_async(code)\n"
     ]
    },
    {
     "data": {
      "image/png": "[encoded data removed]",
      "text/plain": [
       "<Figure size 1440x720 with 1 Axes>"
      ]
     },
     "metadata": {
      "needs_background": "light"
     },
     "output_type": "display_data"
    }
   ],
   "source": [
    "# Plantbasedtreaty    \n",
    "#x = [1, 2, 3, 4, 5, 6, 7, 8, 9, 10, 11, 12, 13, 14, 15, 16, 17, 18, 19]\n",
    "x = [datetime.datetime(2021,10,28),datetime.datetime(2021,10,29),datetime.datetime(2021,10,30),\n",
    "     datetime.datetime(2021,10,31),datetime.datetime(2021,11,1),datetime.datetime(2021,11,2),\n",
    "     datetime.datetime(2021,11,3),datetime.datetime(2021,11,4),datetime.datetime(2021,11,5),\n",
    "     datetime.datetime(2021,11,6),datetime.datetime(2021,11,7),datetime.datetime(2021,11,8),\n",
    "     datetime.datetime(2021,11,9),datetime.datetime(2021,11,10),datetime.datetime(2021,11,11),\n",
    "     datetime.datetime(2021,11,12),datetime.datetime(2021,11,13),datetime.datetime(2021,11,14),\n",
    "     datetime.datetime(2021,11,15)]\n",
    "\n",
    "y = actionlist\n",
    "plt.figure(figsize=(20,10))\n",
    "plt.grid()\n",
    "plt.plot(x, y, label=\"Action\")\n",
    "\n",
    "x2 = x\n",
    "y2 = randomlist\n",
    "plt.plot(x2, y2, label=\"Random\")\n",
    "\n",
    "x3 = x\n",
    "y3 = policylist\n",
    "plt.plot(x3, y3, label=\"Policy\")\n",
    "\n",
    "\n",
    "\n",
    "\n",
    "\n",
    "\n",
    "\n",
    "\n",
    "\n",
    "\n",
    "# xcoords = [datetime.datetime(2021,11,10)]\n",
    "# for xc in xcoords:\n",
    "#     plt.axvline(x=xc, color='r', linestyle='dashed')\n",
    "\n",
    "confcoords = [datetime.datetime(2021,10,31), datetime.datetime(2021,11,12)]\n",
    "for xc in confcoords:\n",
    "    plt.axvline(x=xc, color='black', linestyle='dashed')    \n",
    "    \n",
    "    \n",
    "#plt.xlim(\n",
    "#    xmin=datetime.datetime(2021, 10, 28), # the one that doesn't change\n",
    "#    xmax=datetime.datetime(2021, 11, 15) # the latest datetime in your dataset\n",
    "#sample_dates = np.array([datetime.datetime(11,7), datetime.datetime(11,10)])\n",
    "#plt.vlines(x=sample_dates, ymin=0, ymax=12092, linestyles=\"dashed\", color = 'r')\n",
    "#fig, ax = plt.subplots()\n",
    "#ax.set_xlim([datetime.date(2021, 10, 28), datetime.date(2021, 11, 15)])\n",
    "\n",
    "plt.annotate(\"Start of COP\", (datetime.datetime(2021,10,31, hour=3), 60))\n",
    "plt.annotate(\"End of COP\", (datetime.datetime(2021,11,12, hour=3), 60))\n",
    "\n",
    "#plt.annotate(\"Rest day\", (datetime.datetime(2021,11,7, hour=3), 60))\n",
    "plt.annotate(\"Transportation day\", (datetime.datetime(2021,11,10, hour=3), 70))\n",
    "\n",
    "plt.xlabel(\"Date\")\n",
    "plt.ylabel(\"Daily sentiment score\")\n",
    "plt.title('#COP26 Twitter sentiment by topic group')\n",
    "plt.legend()\n",
    "plt.show()\n",
    "# plt.xticks([1, 2, 3, 4, 5, 6, 7, 8, 9, 10,\n",
    "#             11, 12, 13, 14, 15, 16, 17, 18, 19], [\"10/28\", \"10/29\", \"10/30\",\n",
    "#                                                   \"10/31\", \"11/01\", \"11/02\",\n",
    "#                                                  \"11/03\",\"11/04\",\"11/05\",\n",
    "#                                                  \"11/06\",\"11/07\",\"11/08\",\n",
    "#                                                  \"11/09\",\"11/10\",\"11/11\",\n",
    "#                                                  \"11/12\",\"11/13\",\"11/14\",\"11/15\",])\n"
   ]
  },
  {
   "cell_type": "code",
   "execution_count": null,
   "id": "a7196c9a",
   "metadata": {},
   "outputs": [],
   "source": []
  },
  {
   "cell_type": "code",
   "execution_count": null,
   "id": "299f7369",
   "metadata": {},
   "outputs": [],
   "source": []
  },
  {
   "cell_type": "code",
   "execution_count": null,
   "id": "934f1e50",
   "metadata": {},
   "outputs": [],
   "source": []
  }
 ],
 "metadata": {
  "kernelspec": {
   "display_name": "Python 3",
   "language": "python",
   "name": "python3"
  },
  "language_info": {
   "codemirror_mode": {
    "name": "ipython",
    "version": 3
   },
   "file_extension": ".py",
   "mimetype": "text/x-python",
   "name": "python",
   "nbconvert_exporter": "python",
   "pygments_lexer": "ipython3",
   "version": "3.8.8"
  }
 },
 "nbformat": 4,
 "nbformat_minor": 5
}
